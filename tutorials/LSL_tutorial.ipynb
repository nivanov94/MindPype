{
 "cells": [
  {
   "cell_type": "code",
   "execution_count": 41,
   "metadata": {},
   "outputs": [],
   "source": [
    "from bcipy import bcipy\n",
    "import numpy as np\n",
    "import pylsl\n",
    "\n",
    "# This test requires a running LSL stream with the following properties:\n",
    "# - Type: \"EEG\"\n",
    "\n",
    "# This test also requires a marker stream with the following properties:\n",
    "# - Type: \"Markers\"\n",
    "# - Marker Format: \"^SPACE pressed$\"\n"
   ]
  },
  {
   "cell_type": "code",
   "execution_count": 42,
   "metadata": {},
   "outputs": [],
   "source": [
    "ch_map =  {'FCz': 0, 'Fz': 1, 'F3': 2, 'F7': 3, 'FC3': 4, 'T7': 5, 'C5': 6, 'C3': 7, 'C1': 8, \n",
    "        'Cz' : 9, 'CP3': 10, 'CPz': 11, 'P7': 12, 'P5': 13, 'P3': 14, 'P1': 15, 'Pz': 16, \n",
    "        'PO3': 17, 'Oz': 18, 'PO4': 19, 'P8': 20, 'P6': 21, 'P4': 22, 'P2': 23, 'CP4': 24, \n",
    "        'T8' : 25, 'C6': 26, 'C4' : 27, 'C2': 28, 'FC4': 29, 'F4': 30, 'F8': 31}\n",
    "\n",
    "sel_chs = ('FCz',\n",
    "            'Fz',\n",
    "            'F3',\n",
    "            'F7',\n",
    "            'FC3',\n",
    "            'T7',\n",
    "            'C5',\n",
    "            'C3',\n",
    "            'C1',\n",
    "            'Cz',\n",
    "            'CP3',\n",
    "            'CPz',\n",
    "            'P7',\n",
    "            'P5',\n",
    "            'P3',\n",
    "            'P1',\n",
    "            'Pz',\n",
    "            'PO3',\n",
    "            'Oz',\n",
    "            'PO4',\n",
    "            'P8',\n",
    "            'P6',\n",
    "            'P4',\n",
    "            'P2',\n",
    "            'CP4',\n",
    "            'T8',\n",
    "            'C6',\n",
    "            'C4',\n",
    "            'C2',\n",
    "            'FC4',\n",
    "            'F4',\n",
    "            'F8'\n",
    "              )\n",
    "\n",
    "channels = [i for i in range(3,17)]"
   ]
  },
  {
   "cell_type": "code",
   "execution_count": 43,
   "metadata": {},
   "outputs": [],
   "source": [
    "# Create a session and graph\n",
    "session = bcipy.Session.create()\n",
    "graph = bcipy.Graph.create(session)"
   ]
  },
  {
   "cell_type": "code",
   "execution_count": 58,
   "metadata": {},
   "outputs": [],
   "source": [
    "# Create an LSLInputStream using the factory method\n",
    "# To create the object, we must pass the session, the stream predicate, the channels, the time offset, and the marker format\n",
    "# Alternatively, we can pass the data and marker stream infos, which are pylsl.StreamInfo objects\n",
    "\n",
    "lsl_object = bcipy.source.InputLSLStream.create_marker_coupled_data_stream(\n",
    "    session, \"type='EEG'\",\n",
    "    channels, 0, marker_fmt=\"^SPACE pressed$\"\n",
    "    )\n",
    "\n",
    "\n",
    "# Create a tensor from the LSLInputStream. Since the LSL stream is volatile (not static) between trials, \n",
    "# we create the tensor from \"handle\", passing the stream object and the shape of the tensor\n",
    "t_in = bcipy.Tensor.create_from_handle(session, (len(channels), 1), lsl_object)\n",
    "\n",
    "# Create a second tensor from data, passing the session, the shape, and the data\n",
    "t_in_2 = bcipy.Tensor.create_from_data(session, shape=t_in.shape, data=np.zeros(t_in.shape))\n",
    "\n",
    "# Create an output tensor\n",
    "t_out = bcipy.Tensor.create_virtual(session)\n",
    "\n"
   ]
  },
  {
   "cell_type": "code",
   "execution_count": 54,
   "metadata": {},
   "outputs": [],
   "source": [
    "# Add an addition node to the graph, passing the graph, the input tensors, and the output tensor\n",
    "Add = bcipy.kernels.AdditionKernel.add_addition_node(graph, t_in, t_in_2, t_out)"
   ]
  },
  {
   "cell_type": "code",
   "execution_count": 59,
   "metadata": {},
   "outputs": [],
   "source": [
    "# Verify and initialize the graph\n",
    "sts1 = graph.verify()\n",
    "\n",
    "if sts1 != bcipy.BcipEnums.SUCCESS:\n",
    "    print(sts1)\n",
    "    print(\"Test Failed D=\")\n",
    "\n",
    "sts2 = graph.initialize()\n",
    "\n",
    "if sts2 != bcipy.BcipEnums.SUCCESS:\n",
    "    print(sts2)\n",
    "    print(\"Test Failed D=\")\n",
    "\n"
   ]
  },
  {
   "cell_type": "code",
   "execution_count": null,
   "metadata": {},
   "outputs": [],
   "source": [
    "\n",
    "i = 0\n",
    "\n",
    "sts = bcipy.BcipEnums.SUCCESS\n",
    "while i < 10 and sts == bcipy.BcipEnums.SUCCESS:\n",
    "    # Execute the graph. The execute method will automatically wait for the correct marker \n",
    "    sts = graph.execute()   \n",
    "    print(t_out.data)\n",
    "    i+=1 \n"
   ]
  }
 ],
 "metadata": {
  "kernelspec": {
   "display_name": "bcipy_venv",
   "language": "python",
   "name": "python3"
  },
  "language_info": {
   "codemirror_mode": {
    "name": "ipython",
    "version": 3
   },
   "file_extension": ".py",
   "mimetype": "text/x-python",
   "name": "python",
   "nbconvert_exporter": "python",
   "pygments_lexer": "ipython3",
   "version": "3.11.3"
  },
  "orig_nbformat": 4
 },
 "nbformat": 4,
 "nbformat_minor": 2
}
