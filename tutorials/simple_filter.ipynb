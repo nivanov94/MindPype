{
 "cells": [
  {
   "cell_type": "code",
   "execution_count": 1,
   "metadata": {},
   "outputs": [],
   "source": [
    "# this is to setup the path so we can import the mindpype library\n",
    "import os; os.sys.path.append(os.path.dirname(os.path.abspath('.')))"
   ]
  },
  {
   "cell_type": "code",
   "execution_count": 2,
   "metadata": {},
   "outputs": [],
   "source": [
    "# import mindpype and numpy\n",
    "import mindpype as mp\n",
    "import numpy as np"
   ]
  },
  {
   "cell_type": "code",
   "execution_count": 3,
   "metadata": {},
   "outputs": [],
   "source": [
    "# create a MindPype session object\n",
    "# a session is a container for all the mindpype data and graphs\n",
    "sess = mp.Session.create()"
   ]
  },
  {
   "cell_type": "code",
   "execution_count": 4,
   "metadata": {},
   "outputs": [],
   "source": [
    "# create the graph object and define some parameters\n",
    "online_graph = mp.Graph.create(sess)\n",
    "\n",
    "Fs = 128\n",
    "l_freq = 1\n",
    "h_freq = 40\n",
    "Nc = 14\n",
    "Ns = int(Fs * 10)"
   ]
  },
  {
   "cell_type": "code",
   "execution_count": 5,
   "metadata": {},
   "outputs": [
    {
     "name": "stdout",
     "output_type": "stream",
     "text": [
      "No data specified. Sanity checks related to the length of the signal relative to the filter order will be skipped.\n",
      "Setting up band-pass filter from 1 - 40 Hz\n"
     ]
    },
    {
     "name": "stdout",
     "output_type": "stream",
     "text": [
      "\n",
      "FIR filter parameters\n",
      "---------------------\n",
      "Designing a one-pass, non-linear phase, causal bandpass filter:\n",
      "- Windowed time-domain design (firwin) method\n",
      "- Hamming window with 0.0194 passband ripple and 53 dB stopband attenuation\n",
      "- Lower transition bandwidth: 1.00 Hz\n",
      "- Upper transition bandwidth: 10.00 Hz\n",
      "- Filter length: 423 samples (3.305 s)\n",
      "\n"
     ]
    }
   ],
   "source": [
    "# create the filter object\n",
    "f = mp.Filter.create_fir(sess, Fs, l_freq, h_freq, method='fir', phase='minimum')"
   ]
  },
  {
   "cell_type": "code",
   "execution_count": 6,
   "metadata": {},
   "outputs": [
    {
     "name": "stderr",
     "output_type": "stream",
     "text": [
      "c:\\Users\\ivanovn\\Documents\\mindpype\\mindpype\\source.py:581: RuntimeWarning: More than one stream found matching the predicate. Using the first stream found.\n",
      "  self.update_input_streams(pred, channels, marker_coupled, marker_fmt, marker_pred, stream_info, marker_stream_info, Ns)\n"
     ]
    }
   ],
   "source": [
    "# create the source object\n",
    "LSL_data_src = mp.source.InputLSLStream.create_marker_uncoupled_data_stream(sess, pred=\"type='EEG'\", channels=np.arange(3,17), interval=0.03, Ns=Ns)\n",
    "online_input_data = mp.Tensor.create_from_handle(sess, (Nc, Ns), LSL_data_src)\n",
    "\n",
    "# create the virtual tensor edges\n",
    "v_tensors = [\n",
    "    mp.Tensor.create_virtual(sess),  # 0 - output of pad, input to filter\n",
    "    mp.Tensor.create_virtual(sess),  # 1 - output of filter, input to extract\n",
    "]\n",
    "\n",
    "# define the output tensor\n",
    "online_output_data = mp.Tensor.create(sess, (Nc, Ns))"
   ]
  },
  {
   "cell_type": "code",
   "execution_count": 7,
   "metadata": {},
   "outputs": [
    {
     "data": {
      "text/plain": [
       "<mindpype.graph.Node at 0x16631a1afd0>"
      ]
     },
     "execution_count": 7,
     "metadata": {},
     "output_type": "execute_result"
    }
   ],
   "source": [
    "# add the nodes to the graph\n",
    "# pad the data\n",
    "mp.kernels.PadKernel.add_pad_node(\n",
    "    online_graph,\n",
    "    online_input_data,\n",
    "    v_tensors[0],\n",
    "    pad_width=((0, 0), (len(f.coeffs[\"fir\"]), len(f.coeffs[\"fir\"]))),\n",
    "    mode=\"edge\"\n",
    ")\n",
    "\n",
    "mp.kernels.FilterKernel.add_filter_node(\n",
    "    online_graph, v_tensors[0], f, v_tensors[1], axis=1,\n",
    ")\n",
    "\n",
    "start_time = 0.0\n",
    "end_time = 10.0\n",
    "start_ix = int(start_time * Fs) + len(f.coeffs[\"fir\"])\n",
    "end_ix = int(np.ceil(end_time * Fs)) + len(f.coeffs[\"fir\"])\n",
    "extract_indices = [\n",
    "    \":\",\n",
    "    [_ for _ in range(start_ix, end_ix)],\n",
    "]  # All epochs, all channels, start_time to end_time\n",
    "\n",
    "mp.kernels.ExtractKernel.add_extract_node(\n",
    "    online_graph, v_tensors[1], extract_indices, online_output_data\n",
    ")"
   ]
  },
  {
   "cell_type": "code",
   "execution_count": 8,
   "metadata": {},
   "outputs": [
    {
     "name": "stdout",
     "output_type": "stream",
     "text": [
      "Verifying kernel Pad...\n",
      "Verifying kernel Filter...\n",
      "Verifying kernel Extract...\n"
     ]
    }
   ],
   "source": [
    "# verify and initialize the graph\n",
    "online_graph.verify()\n",
    "online_graph.initialize() # there is nothing to initialize in this graph, so this will do nothing"
   ]
  },
  {
   "cell_type": "code",
   "execution_count": 9,
   "metadata": {},
   "outputs": [
    {
     "name": "stdout",
     "output_type": "stream",
     "text": [
      "Executing trial with label: None\n",
      "Executing trial with label: None\n",
      "Executing trial with label: None\n",
      "Executing trial with label: None\n",
      "Executing trial with label: None\n",
      "Executing trial with label: None\n",
      "Executing trial with label: None\n",
      "Executing trial with label: None\n",
      "Executing trial with label: None\n",
      "Executing trial with label: None\n",
      "Executing trial with label: None\n",
      "Executing trial with label: None\n",
      "Executing trial with label: None\n",
      "Executing trial with label: None\n",
      "Executing trial with label: None\n",
      "Executing trial with label: None\n",
      "Executing trial with label: None\n",
      "Executing trial with label: None\n",
      "Executing trial with label: None\n"
     ]
    },
    {
     "name": "stderr",
     "output_type": "stream",
     "text": [
      "c:\\Users\\ivanovn\\Documents\\mindpype\\mindpype\\containers.py:752: RuntimeWarning: Buffer contains a backlog of data. Execution may be too slow for target polling rate.\n",
      "  data = self.ext_src.poll_data(label=label)\n"
     ]
    },
    {
     "name": "stdout",
     "output_type": "stream",
     "text": [
      "Executing trial with label: None\n",
      "Executing trial with label: None\n",
      "Executing trial with label: None\n",
      "Executing trial with label: None\n",
      "Executing trial with label: None\n",
      "Executing trial with label: None\n",
      "Executing trial with label: None\n",
      "Executing trial with label: None\n",
      "Executing trial with label: None\n",
      "Executing trial with label: None\n",
      "Executing trial with label: None\n",
      "Executing trial with label: None\n",
      "Executing trial with label: None\n",
      "Executing trial with label: None\n",
      "Executing trial with label: None\n",
      "Executing trial with label: None\n",
      "Executing trial with label: None\n",
      "Executing trial with label: None\n",
      "Executing trial with label: None\n",
      "Executing trial with label: None\n",
      "Executing trial with label: None\n",
      "Executing trial with label: None\n",
      "Executing trial with label: None\n",
      "Executing trial with label: None\n",
      "Executing trial with label: None\n",
      "Executing trial with label: None\n",
      "Executing trial with label: None\n",
      "Executing trial with label: None\n",
      "Executing trial with label: None\n",
      "Executing trial with label: None\n",
      "Executing trial with label: None\n",
      "Executing trial with label: None\n",
      "Executing trial with label: None\n",
      "Executing trial with label: None\n",
      "Executing trial with label: None\n",
      "Executing trial with label: None\n",
      "Executing trial with label: None\n",
      "Executing trial with label: None\n",
      "Executing trial with label: None\n",
      "Executing trial with label: None\n",
      "Executing trial with label: None\n",
      "Executing trial with label: None\n",
      "Executing trial with label: None\n",
      "Executing trial with label: None\n",
      "Executing trial with label: None\n",
      "Executing trial with label: None\n",
      "Executing trial with label: None\n",
      "Executing trial with label: None\n",
      "Executing trial with label: None\n",
      "Executing trial with label: None\n",
      "Executing trial with label: None\n",
      "Executing trial with label: None\n",
      "Executing trial with label: None\n",
      "Executing trial with label: None\n",
      "Executing trial with label: None\n",
      "Executing trial with label: None\n",
      "Executing trial with label: None\n",
      "Executing trial with label: None\n",
      "Executing trial with label: None\n",
      "Executing trial with label: None\n",
      "Executing trial with label: None\n",
      "Executing trial with label: None\n",
      "Executing trial with label: None\n",
      "Executing trial with label: None\n",
      "Executing trial with label: None\n",
      "Executing trial with label: None\n",
      "Executing trial with label: None\n",
      "Executing trial with label: None\n",
      "Executing trial with label: None\n",
      "Executing trial with label: None\n",
      "Executing trial with label: None\n",
      "Executing trial with label: None\n",
      "Executing trial with label: None\n",
      "Executing trial with label: None\n",
      "Executing trial with label: None\n",
      "Executing trial with label: None\n",
      "Executing trial with label: None\n",
      "Executing trial with label: None\n",
      "Executing trial with label: None\n",
      "Executing trial with label: None\n",
      "Executing trial with label: None\n",
      "Executing trial with label: None\n",
      "Executing trial with label: None\n",
      "Executing trial with label: None\n",
      "Executing trial with label: None\n",
      "Executing trial with label: None\n",
      "Executing trial with label: None\n",
      "Executing trial with label: None\n",
      "Executing trial with label: None\n",
      "Executing trial with label: None\n",
      "Executing trial with label: None\n",
      "Executing trial with label: None\n",
      "Executing trial with label: None\n",
      "Executing trial with label: None\n",
      "Executing trial with label: None\n",
      "Executing trial with label: None\n",
      "Executing trial with label: None\n",
      "Executing trial with label: None\n",
      "Executing trial with label: None\n",
      "Executing trial with label: None\n",
      "Executing trial with label: None\n",
      "Executing trial with label: None\n",
      "Executing trial with label: None\n",
      "Executing trial with label: None\n",
      "Executing trial with label: None\n",
      "Executing trial with label: None\n",
      "Executing trial with label: None\n",
      "Executing trial with label: None\n",
      "Executing trial with label: None\n",
      "Executing trial with label: None\n",
      "Executing trial with label: None\n",
      "Executing trial with label: None\n",
      "Executing trial with label: None\n",
      "Executing trial with label: None\n",
      "Executing trial with label: None\n",
      "Executing trial with label: None\n",
      "Executing trial with label: None\n",
      "Executing trial with label: None\n",
      "Executing trial with label: None\n",
      "Executing trial with label: None\n",
      "Executing trial with label: None\n",
      "Executing trial with label: None\n",
      "Executing trial with label: None\n",
      "Executing trial with label: None\n",
      "Executing trial with label: None\n",
      "Executing trial with label: None\n",
      "Executing trial with label: None\n",
      "Executing trial with label: None\n",
      "Executing trial with label: None\n",
      "Executing trial with label: None\n",
      "Executing trial with label: None\n",
      "Executing trial with label: None\n",
      "Executing trial with label: None\n",
      "Executing trial with label: None\n",
      "Executing trial with label: None\n",
      "Executing trial with label: None\n",
      "Executing trial with label: None\n",
      "Executing trial with label: None\n",
      "Executing trial with label: None\n",
      "Executing trial with label: None\n",
      "Executing trial with label: None\n",
      "Executing trial with label: None\n",
      "Executing trial with label: None\n",
      "Executing trial with label: None\n",
      "Executing trial with label: None\n",
      "Executing trial with label: None\n",
      "Executing trial with label: None\n",
      "Executing trial with label: None\n",
      "Executing trial with label: None\n",
      "Executing trial with label: None\n",
      "Executing trial with label: None\n",
      "Executing trial with label: None\n",
      "Executing trial with label: None\n",
      "Executing trial with label: None\n",
      "Executing trial with label: None\n",
      "Executing trial with label: None\n",
      "Executing trial with label: None\n",
      "Executing trial with label: None\n",
      "Executing trial with label: None\n",
      "Executing trial with label: None\n",
      "Executing trial with label: None\n",
      "Executing trial with label: None\n",
      "Executing trial with label: None\n",
      "Executing trial with label: None\n",
      "Executing trial with label: None\n",
      "Executing trial with label: None\n",
      "Executing trial with label: None\n",
      "Executing trial with label: None\n",
      "Executing trial with label: None\n",
      "Executing trial with label: None\n",
      "Executing trial with label: None\n"
     ]
    },
    {
     "ename": "KeyboardInterrupt",
     "evalue": "",
     "output_type": "error",
     "traceback": [
      "\u001b[1;31m---------------------------------------------------------------------------\u001b[0m",
      "\u001b[1;31mKeyboardInterrupt\u001b[0m                         Traceback (most recent call last)",
      "Cell \u001b[1;32mIn[9], line 18\u001b[0m\n\u001b[0;32m     16\u001b[0m \u001b[38;5;66;03m# execute the graph\u001b[39;00m\n\u001b[0;32m     17\u001b[0m \u001b[38;5;28;01mwhile\u001b[39;00m \u001b[38;5;28;01mTrue\u001b[39;00m:\n\u001b[1;32m---> 18\u001b[0m     \u001b[43monline_graph\u001b[49m\u001b[38;5;241;43m.\u001b[39;49m\u001b[43mexecute\u001b[49m\u001b[43m(\u001b[49m\u001b[43m)\u001b[49m\n\u001b[0;32m     19\u001b[0m     \u001b[38;5;66;03m#plot_trial(online_output_data.data)\u001b[39;00m\n",
      "File \u001b[1;32mc:\\Users\\ivanovn\\Documents\\mindpype\\mindpype\\graph.py:389\u001b[0m, in \u001b[0;36mGraph.execute\u001b[1;34m(self, label)\u001b[0m\n\u001b[0;32m    386\u001b[0m \u001b[38;5;66;03m# Check whether first node has volatile input\u001b[39;00m\n\u001b[0;32m    387\u001b[0m \u001b[38;5;66;03m# if so, poll the volatile data\u001b[39;00m\n\u001b[0;32m    388\u001b[0m \u001b[38;5;28;01mif\u001b[39;00m \u001b[38;5;28mlen\u001b[39m(\u001b[38;5;28mself\u001b[39m\u001b[38;5;241m.\u001b[39m_volatile_sources) \u001b[38;5;241m>\u001b[39m \u001b[38;5;241m0\u001b[39m:\n\u001b[1;32m--> 389\u001b[0m     \u001b[38;5;28;43mself\u001b[39;49m\u001b[38;5;241;43m.\u001b[39;49m\u001b[43mpoll_volatile_sources\u001b[49m\u001b[43m(\u001b[49m\u001b[43mlabel\u001b[49m\u001b[43m)\u001b[49m\n\u001b[0;32m    391\u001b[0m \u001b[38;5;28mprint\u001b[39m(\u001b[38;5;124m\"\u001b[39m\u001b[38;5;124mExecuting trial with label: \u001b[39m\u001b[38;5;132;01m{}\u001b[39;00m\u001b[38;5;124m\"\u001b[39m\u001b[38;5;241m.\u001b[39mformat(label))\n\u001b[0;32m    393\u001b[0m \u001b[38;5;66;03m# iterate over all the nodes and execute the kernel\u001b[39;00m\n",
      "File \u001b[1;32mc:\\Users\\ivanovn\\Documents\\mindpype\\mindpype\\graph.py:425\u001b[0m, in \u001b[0;36mGraph.poll_volatile_sources\u001b[1;34m(self, label)\u001b[0m\n\u001b[0;32m    407\u001b[0m \u001b[38;5;250m\u001b[39m\u001b[38;5;124;03m\"\"\"\u001b[39;00m\n\u001b[0;32m    408\u001b[0m \u001b[38;5;124;03mPoll data (update input data) from volatile sources within the graph.\u001b[39;00m\n\u001b[0;32m    409\u001b[0m \n\u001b[1;32m   (...)\u001b[0m\n\u001b[0;32m    422\u001b[0m \u001b[38;5;124;03m>>> example_graph.poll_volatile_data(0) # Polls next class 0 trial data\u001b[39;00m\n\u001b[0;32m    423\u001b[0m \u001b[38;5;124;03m\"\"\"\u001b[39;00m\n\u001b[0;32m    424\u001b[0m \u001b[38;5;28;01mfor\u001b[39;00m datum \u001b[38;5;129;01min\u001b[39;00m \u001b[38;5;28mself\u001b[39m\u001b[38;5;241m.\u001b[39m_volatile_sources:\n\u001b[1;32m--> 425\u001b[0m     \u001b[43mdatum\u001b[49m\u001b[38;5;241;43m.\u001b[39;49m\u001b[43mpoll_volatile_data\u001b[49m\u001b[43m(\u001b[49m\u001b[43mlabel\u001b[49m\u001b[43m)\u001b[49m\n",
      "File \u001b[1;32mc:\\Users\\ivanovn\\Documents\\mindpype\\mindpype\\containers.py:752\u001b[0m, in \u001b[0;36mTensor.poll_volatile_data\u001b[1;34m(self, label)\u001b[0m\n\u001b[0;32m    749\u001b[0m \u001b[38;5;28;01mif\u001b[39;00m \u001b[38;5;129;01mnot\u001b[39;00m \u001b[38;5;28mself\u001b[39m\u001b[38;5;241m.\u001b[39mvolatile:\n\u001b[0;32m    750\u001b[0m     \u001b[38;5;28;01mreturn\u001b[39;00m\n\u001b[1;32m--> 752\u001b[0m data \u001b[38;5;241m=\u001b[39m \u001b[38;5;28;43mself\u001b[39;49m\u001b[38;5;241;43m.\u001b[39;49m\u001b[43mext_src\u001b[49m\u001b[38;5;241;43m.\u001b[39;49m\u001b[43mpoll_data\u001b[49m\u001b[43m(\u001b[49m\u001b[43mlabel\u001b[49m\u001b[38;5;241;43m=\u001b[39;49m\u001b[43mlabel\u001b[49m\u001b[43m)\u001b[49m\n\u001b[0;32m    753\u001b[0m \u001b[38;5;66;03m# if we only pulled one trial, remove the first dimension\u001b[39;00m\n\u001b[0;32m    754\u001b[0m \u001b[38;5;28;01mif\u001b[39;00m \u001b[38;5;28mlen\u001b[39m(data\u001b[38;5;241m.\u001b[39mshape) \u001b[38;5;241m>\u001b[39m \u001b[38;5;241m2\u001b[39m:\n",
      "File \u001b[1;32mc:\\Users\\ivanovn\\Documents\\mindpype\\mindpype\\source.py:731\u001b[0m, in \u001b[0;36mInputLSLStream.poll_data\u001b[1;34m(self, label)\u001b[0m\n\u001b[0;32m    727\u001b[0m         \u001b[38;5;28;01mif\u001b[39;00m null_reads \u001b[38;5;241m>\u001b[39m \u001b[38;5;28mself\u001b[39m\u001b[38;5;241m.\u001b[39mMAX_NULL_READS:\n\u001b[0;32m    728\u001b[0m             \u001b[38;5;28;01mraise\u001b[39;00m \u001b[38;5;167;01mRuntimeError\u001b[39;00m(\n\u001b[0;32m    729\u001b[0m                 \u001b[38;5;124mf\u001b[39m\u001b[38;5;124m\"\u001b[39m\u001b[38;5;124mThe stream has not been updated in the last \u001b[39m\u001b[38;5;132;01m{\u001b[39;00m\u001b[38;5;28mself\u001b[39m\u001b[38;5;241m.\u001b[39mMAX_NULL_READS\u001b[38;5;132;01m}\u001b[39;00m\u001b[38;5;124m read attemps. Please check the stream.\u001b[39m\u001b[38;5;124m\"\u001b[39m\n\u001b[0;32m    730\u001b[0m             )\n\u001b[1;32m--> 731\u001b[0m         \u001b[43mtime\u001b[49m\u001b[38;5;241;43m.\u001b[39;49m\u001b[43msleep\u001b[49m\u001b[43m(\u001b[49m\u001b[38;5;241;43m0.001\u001b[39;49m\u001b[43m)\u001b[49m\n\u001b[0;32m    733\u001b[0m \u001b[38;5;28;01mif\u001b[39;00m \u001b[38;5;28mself\u001b[39m\u001b[38;5;241m.\u001b[39m_marker_coupled:\n\u001b[0;32m    734\u001b[0m     \u001b[38;5;66;03m# reset the maker peeked flag since we have polled new data\u001b[39;00m\n\u001b[0;32m    735\u001b[0m     \u001b[38;5;28mself\u001b[39m\u001b[38;5;241m.\u001b[39m_already_peeked \u001b[38;5;241m=\u001b[39m \u001b[38;5;28;01mFalse\u001b[39;00m\n",
      "\u001b[1;31mKeyboardInterrupt\u001b[0m: "
     ]
    }
   ],
   "source": [
    "import time\n",
    "import matplotlib.pyplot as plt\n",
    "# change the plot size\n",
    "plt.rcParams[\"figure.figsize\"] = (12 ,8)\n",
    "\n",
    "def plot_trial(X):\n",
    "    fig, ax = plt.subplots()\n",
    "    #ax.clear()\n",
    "    t = np.arange(0, X.shape[1]/128, 1/128)\n",
    "    for i_ch, ch in enumerate(range(X.shape[0])):\n",
    "        ax.plot(t, X[i_ch,:]+i_ch*200, label=ch)\n",
    "    ax.set_yticks(())\n",
    "    ax.set_xlabel('Time (s)', fontsize=28)\n",
    "    plt.show()\n",
    "\n",
    "# execute the graph\n",
    "while True:\n",
    "    tic = time.time()\n",
    "    online_graph.execute()\n",
    "    toc = time.time()\n",
    "    print(f\"Execution time: {toc-tic}\")\n",
    "    #plot_trial(online_output_data.data)\n",
    "\n"
   ]
  }
 ],
 "metadata": {
  "kernelspec": {
   "display_name": "mindpype",
   "language": "python",
   "name": "python3"
  },
  "language_info": {
   "codemirror_mode": {
    "name": "ipython",
    "version": 3
   },
   "file_extension": ".py",
   "mimetype": "text/x-python",
   "name": "python",
   "nbconvert_exporter": "python",
   "pygments_lexer": "ipython3",
   "version": "3.9.18"
  }
 },
 "nbformat": 4,
 "nbformat_minor": 2
}
