{
 "cells": [
  {
   "cell_type": "code",
   "execution_count": null,
   "metadata": {},
   "outputs": [
    {
     "ename": "",
     "evalue": "",
     "output_type": "error",
     "traceback": [
      "\u001b[1;31mRunning cells with 'mindset-mindpype' requires the ipykernel package.\n",
      "\u001b[1;31mRun the following command to install 'ipykernel' into the Python environment. \n",
      "\u001b[1;31mCommand: 'conda install -n mindset-mindpype ipykernel --update-deps --force-reinstall'"
     ]
    }
   ],
   "source": [
    "# this is to setup the path so we can import the mindpype library\n",
    "import os; os.sys.path.append(os.path.dirname(os.path.abspath('.')))"
   ]
  },
  {
   "cell_type": "code",
   "execution_count": 6,
   "metadata": {},
   "outputs": [],
   "source": [
    "# import mindpype and numpy\n",
    "import mindpype as mp\n",
    "import numpy as np"
   ]
  },
  {
   "cell_type": "code",
   "execution_count": 7,
   "metadata": {},
   "outputs": [],
   "source": [
    "# create a MindPype session object\n",
    "# a session is a container for all the mindpype data and graphs\n",
    "sess = mp.Session.create()"
   ]
  },
  {
   "cell_type": "code",
   "execution_count": 9,
   "metadata": {},
   "outputs": [],
   "source": [
    "# create the graph object and define some parameters\n",
    "online_graph = mp.Graph.create(sess)\n",
    "\n",
    "Fs = 128\n",
    "l_freq = 1\n",
    "h_freq = 40\n",
    "Nc = 19\n",
    "Ns = int(Fs * 3)"
   ]
  },
  {
   "cell_type": "code",
   "execution_count": null,
   "metadata": {},
   "outputs": [],
   "source": [
    "# create the filter object\n",
    "f = mp.Filter.create_fir(sess, Fs, l_freq, h_freq, method='fir', phase='minimum')"
   ]
  },
  {
   "cell_type": "code",
   "execution_count": null,
   "metadata": {},
   "outputs": [],
   "source": [
    "# create the source object\n",
    "LSL_data_src = mp.source.InputLSLStream.create_marker_uncoupled_data_stream(sess, pred=\"type='EEG'\", channels=np.arange(3,17), interval=2, Ns=Ns)\n",
    "online_input_data = mp.Tensor.create_from_handle(sess, (Nc, Ns), LSL_data_src)\n",
    "\n",
    "# create the virtual tensor edges\n",
    "v_tensors = [\n",
    "    mp.Tensor.create_virtual(sess),  # 0 - output of pad, input to filter\n",
    "    mp.Tensor.create_virtual(sess),  # 1 - output of filter, input to extract\n",
    "]\n",
    "\n",
    "# define the output tensor\n",
    "online_output_data = mp.Tensor.create(sess, (Nc, Ns))"
   ]
  },
  {
   "cell_type": "code",
   "execution_count": null,
   "metadata": {},
   "outputs": [],
   "source": [
    "# add the nodes to the graph\n",
    "# pad the data\n",
    "mp.kernels.PadKernel.add_pad_node(\n",
    "    online_graph,\n",
    "    online_input_data,\n",
    "    v_tensors[0],\n",
    "    pad_width=((0, 0), (len(f.coeffs[\"fir\"]), len(f.coeffs[\"fir\"]))),\n",
    "    mode=\"edge\"\n",
    ")\n",
    "\n",
    "mp.kernels.FilterKernel.add_filter_node(\n",
    "    online_graph, v_tensors[0], f, v_tensors[1], axis=1,\n",
    ")\n",
    "\n",
    "start_time = 0.0\n",
    "end_time = 3.0\n",
    "start_ix = int(start_time * Fs) + len(f.coeffs[\"fir\"])\n",
    "end_ix = int(np.ceil(end_time * Fs)) + len(f.coeffs[\"fir\"])\n",
    "extract_indices = [\n",
    "    \":\",\n",
    "    [_ for _ in range(start_ix, end_ix)],\n",
    "]  # All epochs, all channels, start_time to end_time\n",
    "\n",
    "mp.kernels.ExtractKernel.add_extract_node(\n",
    "    online_graph, v_tensors[1], extract_indices, online_output_data\n",
    ")"
   ]
  },
  {
   "cell_type": "code",
   "execution_count": 10,
   "metadata": {},
   "outputs": [
    {
     "name": "stdout",
     "output_type": "stream",
     "text": [
      "Verifying kernel Addition...\n"
     ]
    }
   ],
   "source": [
    "# verify and initialize the graph\n",
    "g.verify()\n",
    "g.initialize() # there is nothing to initialize in this graph, so this will do nothing"
   ]
  },
  {
   "cell_type": "code",
   "execution_count": 12,
   "metadata": {},
   "outputs": [
    {
     "name": "stdout",
     "output_type": "stream",
     "text": [
      "Executing trial with label: None\n",
      "Output tensor data: [ 6  7  8  9 10]\n"
     ]
    }
   ],
   "source": [
    "import time\n",
    "# execute the graph\n",
    "while True:\n",
    "    g.execute()\n",
    "    print(\"time: \", time.time())\n",
    "    print(online_output_data.data)\n"
   ]
  }
 ],
 "metadata": {
  "kernelspec": {
   "display_name": "mindpype",
   "language": "python",
   "name": "python3"
  },
  "language_info": {
   "codemirror_mode": {
    "name": "ipython",
    "version": 3
   },
   "file_extension": ".py",
   "mimetype": "text/x-python",
   "name": "python",
   "nbconvert_exporter": "python",
   "pygments_lexer": "ipython3",
   "version": "3.9.18"
  }
 },
 "nbformat": 4,
 "nbformat_minor": 2
}
