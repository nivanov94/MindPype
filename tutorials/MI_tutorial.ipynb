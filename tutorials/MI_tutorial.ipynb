{
 "cells": [
  {
   "cell_type": "code",
   "execution_count": 8,
   "metadata": {},
   "outputs": [],
   "source": [
    "# this is to setup the path so we can import the mindpype library\n",
    "import os; os.sys.path.append(os.path.dirname(os.path.abspath('.')))"
   ]
  },
  {
   "cell_type": "code",
   "execution_count": 9,
   "metadata": {},
   "outputs": [
    {
     "ename": "ModuleNotFoundError",
     "evalue": "No module named 'pylsl'",
     "output_type": "error",
     "traceback": [
      "\u001b[1;31m---------------------------------------------------------------------------\u001b[0m",
      "\u001b[1;31mModuleNotFoundError\u001b[0m                       Traceback (most recent call last)",
      "Cell \u001b[1;32mIn[9], line 1\u001b[0m\n\u001b[1;32m----> 1\u001b[0m \u001b[38;5;28;01mimport\u001b[39;00m \u001b[38;5;21;01mmindpype\u001b[39;00m \u001b[38;5;28;01mas\u001b[39;00m \u001b[38;5;21;01mmp\u001b[39;00m\n\u001b[0;32m      2\u001b[0m \u001b[38;5;28;01mimport\u001b[39;00m \u001b[38;5;21;01mnumpy\u001b[39;00m \u001b[38;5;28;01mas\u001b[39;00m \u001b[38;5;21;01mnp\u001b[39;00m\n",
      "File \u001b[1;32mc:\\Users\\wongma\\Documents\\MindPype2\\MindPype\\mindpype\\__init__.py:4\u001b[0m\n\u001b[0;32m      2\u001b[0m \u001b[38;5;28;01mfrom\u001b[39;00m \u001b[38;5;21;01m.\u001b[39;00m\u001b[38;5;21;01mcontainers\u001b[39;00m \u001b[38;5;28;01mimport\u001b[39;00m Scalar, Tensor, Array, CircleBuffer\n\u001b[0;32m      3\u001b[0m \u001b[38;5;28;01mfrom\u001b[39;00m \u001b[38;5;21;01m.\u001b[39;00m\u001b[38;5;21;01mgraph\u001b[39;00m \u001b[38;5;28;01mimport\u001b[39;00m Graph\n\u001b[1;32m----> 4\u001b[0m \u001b[38;5;28;01mfrom\u001b[39;00m \u001b[38;5;21;01m.\u001b[39;00m \u001b[38;5;28;01mimport\u001b[39;00m source\n\u001b[0;32m      5\u001b[0m \u001b[38;5;28;01mfrom\u001b[39;00m \u001b[38;5;21;01m.\u001b[39;00m\u001b[38;5;21;01mfilter\u001b[39;00m \u001b[38;5;28;01mimport\u001b[39;00m Filter\n\u001b[0;32m      6\u001b[0m \u001b[38;5;28;01mfrom\u001b[39;00m \u001b[38;5;21;01m.\u001b[39;00m\u001b[38;5;21;01mclassifier\u001b[39;00m \u001b[38;5;28;01mimport\u001b[39;00m Classifier\n",
      "File \u001b[1;32mc:\\Users\\wongma\\Documents\\MindPype2\\MindPype\\mindpype\\source.py:13\u001b[0m\n\u001b[0;32m     11\u001b[0m \u001b[38;5;28;01mfrom\u001b[39;00m \u001b[38;5;21;01mscipy\u001b[39;00m\u001b[38;5;21;01m.\u001b[39;00m\u001b[38;5;21;01mio\u001b[39;00m \u001b[38;5;28;01mimport\u001b[39;00m loadmat\n\u001b[0;32m     12\u001b[0m \u001b[38;5;28;01mimport\u001b[39;00m \u001b[38;5;21;01mnumpy\u001b[39;00m \u001b[38;5;28;01mas\u001b[39;00m \u001b[38;5;21;01mnp\u001b[39;00m\n\u001b[1;32m---> 13\u001b[0m \u001b[38;5;28;01mimport\u001b[39;00m \u001b[38;5;21;01mpylsl\u001b[39;00m\n\u001b[0;32m     14\u001b[0m \u001b[38;5;28;01mimport\u001b[39;00m \u001b[38;5;21;01mpyxdf\u001b[39;00m\n\u001b[0;32m     15\u001b[0m \u001b[38;5;28;01mimport\u001b[39;00m \u001b[38;5;21;01mos\u001b[39;00m\n",
      "\u001b[1;31mModuleNotFoundError\u001b[0m: No module named 'pylsl'"
     ]
    }
   ],
   "source": [
    "import mindpype as mp\n",
    "import numpy as np\n",
    "# import pylsl\n",
    "# import argparse"
   ]
  },
  {
   "cell_type": "code",
   "execution_count": null,
   "metadata": {},
   "outputs": [],
   "source": [
    "# parser = argparse.ArgumentParser(prog='Accompanying processing back-end to work with BCI Rocket',\n",
    "#                                     description='Gets data from LSL for processing and sends predicted labels to LSL')\n",
    "# parser.add_argument('--tasks', nargs=3, type=str, required=False, default=['task1','task2','task3'])\n",
    "# parser.add_argument('--fs', nargs=1, type=int, required=False, default=[250])\n",
    "# parser.add_argument('--lsl', nargs=1, type=bool, required=False, default=False)\n",
    "# args = parser.parse_args()"
   ]
  },
  {
   "cell_type": "code",
   "execution_count": 6,
   "metadata": {},
   "outputs": [],
   "source": [
    "ch_map =  {'FCz' : 0,\n",
    "            'Fz'  : 1,\n",
    "            'F3'  : 2,\n",
    "            'F7'  : 3,\n",
    "            'FC3' : 4,\n",
    "            'T7'  : 5,\n",
    "            'C5'  : 6,\n",
    "            'C3'  : 7,\n",
    "            'C1'  : 8,\n",
    "            'Cz'  : 9,\n",
    "            'CP3' : 10,\n",
    "            'CPz' : 11,\n",
    "            'P7'  : 12,\n",
    "            'P5'  : 13,\n",
    "            'P3'  : 14,\n",
    "            'P1'  : 15,\n",
    "            'Pz'  : 16,\n",
    "            'PO3' : 17,\n",
    "            'Oz'  : 18,\n",
    "            'PO4' : 19,\n",
    "            'P8'  : 20,\n",
    "            'P6'  : 21,\n",
    "            'P4'  : 22,\n",
    "            'P2'  : 23,\n",
    "            'CP4' : 24,\n",
    "            'T8'  : 25,\n",
    "            'C6'  : 26,\n",
    "            'C4'  : 27,\n",
    "            'C2'  : 28,\n",
    "            'FC4' : 29,\n",
    "            'F4'  : 30,\n",
    "            'F8'  : 31}\n",
    "\n",
    "sel_chs = ('FCz', 'Fz', 'F3', 'F7', 'FC3', 'T7', 'C5', 'C3', 'C1',\n",
    "            'Cz', 'CP3', 'CPz', 'P7', 'P5', 'P3', 'P1', 'Pz', 'PO3',\n",
    "            'Oz', 'PO4', 'P8', 'P6', 'P4', 'P2', 'CP4', 'T8', 'C6',\n",
    "            'C4', 'C2', 'FC4', 'F4', 'F8'\n",
    "            )\n",
    "\n",
    "channels = [ch_map[ch] for ch in sel_chs]\n"
   ]
  },
  {
   "cell_type": "code",
   "execution_count": 7,
   "metadata": {},
   "outputs": [
    {
     "ename": "TypeError",
     "evalue": "object of type 'slice' has no len()",
     "output_type": "error",
     "traceback": [
      "\u001b[1;31m---------------------------------------------------------------------------\u001b[0m",
      "\u001b[1;31mTypeError\u001b[0m                                 Traceback (most recent call last)",
      "Cell \u001b[1;32mIn[7], line 7\u001b[0m\n\u001b[0;32m      5\u001b[0m crop_indices \u001b[38;5;241m=\u001b[39m \u001b[38;5;28mslice\u001b[39m(Fs, \u001b[38;5;241m4\u001b[39m\u001b[38;5;241m*\u001b[39mFs) \u001b[38;5;66;03m# extract the central 3 seconds of the trial\u001b[39;00m\n\u001b[0;32m      6\u001b[0m Nc \u001b[38;5;241m=\u001b[39m \u001b[38;5;28mlen\u001b[39m(channels)\n\u001b[1;32m----> 7\u001b[0m Ns \u001b[38;5;241m=\u001b[39m \u001b[38;5;28mlen\u001b[39m(crop_indices)\n",
      "\u001b[1;31mTypeError\u001b[0m: object of type 'slice' has no len()"
     ]
    }
   ],
   "source": [
    "selected_tasks = tuple(['task1','task2','task3'])\n",
    "\n",
    "Fs = 250\n",
    "\n",
    "crop_indices = slice(Fs, 4*Fs) # extract the central 3 seconds of the trial\n",
    "Nc = len(channels)\n",
    "Ns = len(crop_indices)"
   ]
  },
  {
   "cell_type": "code",
   "execution_count": null,
   "metadata": {},
   "outputs": [],
   "source": [
    "# create mindpype session\n",
    "s = mp.Session()"
   ]
  },
  {
   "cell_type": "code",
   "execution_count": null,
   "metadata": {},
   "outputs": [],
   "source": [
    "# create offline and online graphs\n",
    "# if args.lsl:\n",
    "eeg_src = mp.source.InputLSLStream.create_marker_coupled_data_stream(s,\n",
    "                            \"type='EEG' and channel_count=32\",\n",
    "                            channels=channels,\n",
    "                            marker=True,\n",
    "                            marker_fmt='label_\\d_name_*',\n",
    "                            marker_pred=\"name='bci_rocket_marker'\")\n",
    "t_trial = mp.Tensor.create_from_handle(s, (Nc, Ns+2*Fs), eeg_src)\n",
    "# else:\n",
    "#     t_trial = mp.Tensor.create(s, (Nc, Ns+2*Fs))\n",
    "\n",
    "t_filtered = mp.Tensor.create_virtual(s)\n",
    "t_cropped = mp.Tensor.create(s,(Nc,Ns))\n",
    "t_csp = mp.Tensor.create_virtual(s)\n",
    "t_var = mp.Tensor.create_virtual(s)\n",
    "t_log = mp.Tensor.create_virtual(s)\n",
    "t_cov = mp.Tensor.create_virtual(s)\n",
    "\n",
    "s_true = mp.Scalar.create(s,int)\n",
    "s_pred = mp.Scalar.create(s,int)\n",
    "s_artifact = mp.Scalar.create(s, int)\n",
    "\n",
    "f_bp_filt = mp.Filter.create_butter(s, 4, (8,30), btype='bandpass', implementation='sos', fs=Fs)\n",
    "c_lda = mp.Classifier.create_LDA(s,solver='lsqr',shrinkage='auto')"
   ]
  },
  {
   "cell_type": "code",
   "execution_count": null,
   "metadata": {},
   "outputs": [],
   "source": [
    " # create the circle buffer to contain the data\n",
    "template_tensor = mp.Tensor.create(s, (Nc, Ns+2*Fs))\n",
    "template_scalar = mp.Scalar.create(s, int)\n",
    "\n",
    "\n",
    "max_buffer_length = 60 * len(selected_tasks) # 60 from the present session\n",
    "\n",
    "cb_prev_trials = mp.CircleBuffer.create(s, max_buffer_length, template_tensor)\n",
    "cb_labels = mp.CircleBuffer.create(s, max_buffer_length, template_scalar)\n"
   ]
  },
  {
   "cell_type": "code",
   "execution_count": null,
   "metadata": {},
   "outputs": [],
   "source": [
    "# # offline graph\n",
    "# offline_graph = mp.Graph.create(s)\n",
    "# mp.kernels.EnqueueKernel.add_to_graph(offline_graph,\n",
    "#                                         t_trial,\n",
    "#                                         cb_prev_trials)\n",
    "\n",
    "# mp.kernels.EnqueueKernel.add_to_graph(offline_graph,\n",
    "#                                         s_true,\n",
    "#                                         cb_labels)"
   ]
  },
  {
   "cell_type": "code",
   "execution_count": null,
   "metadata": {},
   "outputs": [],
   "source": [
    "# online graph\n",
    "online_graph = mp.Graph.create(s)\n",
    "mp.kernels.FiltFiltKernel.add_to_graph(online_graph,\n",
    "                                        t_trial,\n",
    "                                        f_bp_filt,\n",
    "                                        t_filtered,\n",
    "                                        axis=1)\n",
    "\n",
    "mp.kernels.ExtractKernel.add_to_graph(online_graph,\n",
    "                                        t_filtered,\n",
    "                                        [slice(None),crop_indices],\n",
    "                                        t_cropped)\n",
    "\n",
    "mp.kernels.EnqueueKernel.add_to_graph(online_graph,\n",
    "                                        t_trial,\n",
    "                                        cb_prev_trials,\n",
    "                                        s_artifact)\n",
    "\n",
    "mp.kernels.EnqueueKernel.add_to_graph(online_graph,\n",
    "                                        s_true,\n",
    "                                        cb_labels,\n",
    "                                        s_artifact)\n",
    "\n",
    "mp.kernels.CommonSpatialPatternKernel.add_to_graph(online_graph,\n",
    "                                                    t_cropped,\n",
    "                                                    t_csp,\n",
    "                                                    num_filts=4, # number of filters\n",
    "                                                    Ncls=3) # number of classes\n",
    "\n",
    "mp.kernels.VarKernel.add_to_graph(online_graph, t_csp, t_var, 1, 1)\n",
    "mp.kernels.LogKernel.add_to_graph(online_graph, t_var, t_log)\n",
    "\n",
    "mp.kernels.ClassifierKernel.add_to_graph(online_graph,\n",
    "                                            t_log,\n",
    "                                            c_lda,\n",
    "                                            s_pred,\n",
    "                                            num_classes=3)\n",
    "\n",
    "mp.kernels.CovarianceKernel.add_to_graph(online_graph, t_cropped, t_cov)\n",
    "mp.kernels.RiemannPotatoKernel.add_to_graph(online_graph,\n",
    "                                            t_cov, s_artifact)\n",
    "\n",
    "# graphs = [offline_graph, online_graph]"
   ]
  },
  {
   "cell_type": "code",
   "execution_count": null,
   "metadata": {},
   "outputs": [],
   "source": [
    "# add default initialization data to the online graph\n",
    "online_graph.set_default_init_data(cb_prev_trials, cb_labels)"
   ]
  },
  {
   "cell_type": "code",
   "execution_count": null,
   "metadata": {},
   "outputs": [],
   "source": [
    " # verify graphs\n",
    "online_graph.verify()"
   ]
  },
  {
   "cell_type": "code",
   "execution_count": null,
   "metadata": {},
   "outputs": [],
   "source": [
    " # create lsl inlet and outlet to communicate with BCI rocket\n",
    "# if args.lsl:\n",
    "# lsl_marker_inlet = pylsl.StreamInlet(pylsl.resolve_byprop('type', 'Markers')[0]) # todo verify there will only be one marker stream\n",
    "# outlet_info = pylsl.StreamInfo('Marker-PredictedLabel', 'Markers', channel_format='string')\n",
    "# lsl_marker_outlet = pylsl.StreamOutlet(outlet_info)\n",
    "\n",
    "# for i_b in range(4): # four blocks total\n",
    "#     print(f\"Block: {i_b+1}\")\n",
    "#     if i_b < 2:\n",
    "#         active_graph = offline_graph\n",
    "#     else:\n",
    "#         active_graph = online_graph\n",
    "\n",
    "    # if not args.lsl:\n",
    "    #     # generate random labels sequence\n",
    "    #     block_labels = np.concatenate((np.zeros((15,)), np.ones((15,)), 2*np.ones((15,))))\n",
    "    #     np.random.shuffle(block_labels)\n",
    "\n",
    "    # initialize the active graph\n",
    "    # active_graph.initialize()\n",
    "\n",
    "online_graph.initialize()\n",
    "online_graph.execute()\n",
    "\n",
    "    # for i_t in range(45): # 45 trials per block\n",
    "    #     print(f\"\\ttrial: {i_t+1}\")\n",
    "\n",
    "    #     if args.lsl:\n",
    "    #         # wait for lsl marker\n",
    "    #         true_label = -1\n",
    "    #         print(\"Waiting for marker...\")\n",
    "    #         while true_label == -1:\n",
    "    #             inlet_marker, _ = lsl_marker_inlet.pull_sample(timeout=0.1)\n",
    "\n",
    "    #             if inlet_marker != None and inlet_marker[0].find(\"cue_\") != -1 and inlet_marker[0] != 'cue_rest':\n",
    "    #                 start_index = inlet_marker[0].find(\"label_\") + len(\"label_\")\n",
    "    #                 end_index = inlet_marker[0].find(\"_name\")\n",
    "    #                 label_str = inlet_marker[0][start_index:end_index]\n",
    "    #                 true_label = int(label_str)\n",
    "    #     else:\n",
    "    #         true_label = block_labels[i_t]\n",
    "    #         t_trial.assign_random_data(vmin=-10,vmax=10)\n",
    "\n",
    "\n",
    "    #     # set the true label scalar\n",
    "    #     s_true.data = true_label\n",
    "\n",
    "    #     # process trial\n",
    "    #     active_graph.execute(label=true_label)\n",
    "\n",
    "    #     # create the outlet marker\n",
    "    #     if i_b > 1:\n",
    "    #         # check if data was clean\n",
    "    #         if s_artifact.data == 1: #clean trial\n",
    "    #             outlet_marker = f\"Block:{i_b+1}_Trial:{i_t+1}_Pred:{s_pred.data}\"\n",
    "    #         else:\n",
    "    #             outlet_marker = f\"Block:{i_b+1}_Trial:{i_t+1}_Pred:{-2}\"\n",
    "\n",
    "\n",
    "    #         # push predicated label to marker outlet\n",
    "    #         print(outlet_marker)\n",
    "    #         if args.lsl:\n",
    "    #             lsl_marker_outlet.push_sample([outlet_marker])\n"
   ]
  }
 ],
 "metadata": {
  "kernelspec": {
   "display_name": "Python 3",
   "language": "python",
   "name": "python3"
  },
  "language_info": {
   "codemirror_mode": {
    "name": "ipython",
    "version": 3
   },
   "file_extension": ".py",
   "mimetype": "text/x-python",
   "name": "python",
   "nbconvert_exporter": "python",
   "pygments_lexer": "ipython3",
   "version": "3.11.9"
  }
 },
 "nbformat": 4,
 "nbformat_minor": 2
}
