{
 "cells": [
  {
   "cell_type": "markdown",
   "metadata": {},
   "source": [
    "This tutorial will demonstrate how to create an MDM pipeline using MindPype"
   ]
  },
  {
   "cell_type": "code",
   "execution_count": null,
   "metadata": {},
   "outputs": [],
   "source": [
    "# this is to setup the path so we can import the mindpype library\n",
    "import os; os.sys.path.append(os.path.dirname(os.path.abspath('.')))"
   ]
  },
  {
   "cell_type": "code",
   "execution_count": null,
   "metadata": {},
   "outputs": [],
   "source": [
    "import mindpype as mp\n",
    "import numpy as np"
   ]
  },
  {
   "cell_type": "markdown",
   "metadata": {},
   "source": [
    "The first step to creating a pipeline is to create a session, which serves as a sandbox for all components in the pipeline. After creating the session we will create a graph which represents the pipeline."
   ]
  },
  {
   "cell_type": "code",
   "execution_count": null,
   "metadata": {},
   "outputs": [],
   "source": [
    "# create a session\n",
    "s = mp.Session.create()\n",
    "trial_graph = mp.Graph.create(s)"
   ]
  },
  {
   "cell_type": "markdown",
   "metadata": {},
   "source": [
    "We will create fake data to train our MDM classifier with and store this data in a Tensor using the ```create_from_data()``` factory method.\n",
    "\n"
   ]
  },
  {
   "cell_type": "code",
   "execution_count": null,
   "metadata": {},
   "outputs": [],
   "source": [
    "# create fake data for training\n",
    "raw_training_data = np.random.normal(loc=0.0,scale=1.0,size=(180,250,12))\n",
    "training_data = np.zeros((180,12,12))\n",
    "for i in range(180):\n",
    "    training_data[i,:,:] = np.cov(raw_training_data[i,:,:],rowvar=False)\n",
    "\n",
    "labels = np.asarray([0]*60 + [1]*60 + [2]*60)\n",
    "X = mp.Tensor.create_from_data(s,training_data)\n",
    "y = mp.Tensor.create_from_data(s,labels)"
   ]
  },
  {
   "cell_type": "markdown",
   "metadata": {},
   "source": [
    "Next we will create our input and output data containers for the graph. Our pipeline will take input data and will output the predicted label so we will create a tensor object for our input and a scalar object for our output.\n",
    "\n",
    "Also, we will create virtual tensors to hold ant intermediate values that are calculated throughout the pipeline using the ```create_virtual()``` method. Since these intermediate values represent data that is only required in the proces of completing a calculation and we do not need to access them later, the virtual type is ideal."
   ]
  },
  {
   "cell_type": "code",
   "execution_count": null,
   "metadata": {},
   "outputs": [],
   "source": [
    "input_data = np.random.randn(12,500)\n",
    "t_in = mp.Tensor.create_from_data(s,input_data)\n",
    "s_out = mp.Scalar.create_from_value(s,-1)\n",
    "\n",
    "t_virt = [mp.Tensor.create_virtual(s),\n",
    "            mp.Tensor.create_virtual(s)]"
   ]
  },
  {
   "cell_type": "markdown",
   "metadata": {},
   "source": [
    "We will create a filter object that we will later pass into our filter node when we add it to our graph."
   ]
  },
  {
   "cell_type": "code",
   "execution_count": null,
   "metadata": {},
   "outputs": [],
   "source": [
    "# create a filter\n",
    "order = 4\n",
    "bandpass = (8,35) # in Hz\n",
    "fs = 250\n",
    "f = mp.Filter.create_butter(s,order,bandpass,btype='bandpass',fs=fs,implementation='sos')"
   ]
  },
  {
   "cell_type": "markdown",
   "metadata": {},
   "source": [
    "Next, we will add our nodes to the graph using the ```add_to_graph()``` faactory method. We first filter the Tensor. Then we will calculate the covariance of the filtered Tensor. Finally, we use a Riemann MDM classifier to obtain a predicted label."
   ]
  },
  {
   "cell_type": "code",
   "execution_count": null,
   "metadata": {},
   "outputs": [],
   "source": [
    "# add the nodes\n",
    "mp.kernels.FilterKernel.add_to_graph(trial_graph,t_in,f,t_virt[0])\n",
    "mp.kernels.CovarianceKernel.add_to_graph(trial_graph,t_virt[0],t_virt[1])\n",
    "mp.kernels.RiemannMDMClassifierKernel.add_to_graph(trial_graph,\n",
    "                                                    t_virt[1],\n",
    "                                                    s_out,3,X,y)\n"
   ]
  },
  {
   "cell_type": "markdown",
   "metadata": {},
   "source": [
    "With all of our nodes added to our graph, we will then verify the graph using the ```verify()``` method. Verifying the graph orders the nodes for execution and ensure that the inputs and outputs of each processing node are appropriately typed and sized.\n",
    "\n",
    "After our graph has been verified, the next step is to initialize the graph using the ```initialize()``` method. This step is required for pipelines that have methods that need to be trained or fit."
   ]
  },
  {
   "cell_type": "code",
   "execution_count": null,
   "metadata": {},
   "outputs": [],
   "source": [
    "# verify the session (i.e. schedule the nodes)\n",
    "trial_graph.verify()\n",
    "# intialize the graph (i.e. train the classifier)\n",
    "trial_graph.initialize()\n"
   ]
  },
  {
   "cell_type": "markdown",
   "metadata": {},
   "source": [
    "Finally, we can run our pipeline by calling the ```execute()``` method on our graph."
   ]
  },
  {
   "cell_type": "code",
   "execution_count": null,
   "metadata": {},
   "outputs": [],
   "source": [
    "# RUN!\n",
    "trial_graph.execute(0)\n",
    "\n",
    "print(s_out.data)"
   ]
  }
 ],
 "metadata": {
  "language_info": {
   "name": "python"
  }
 },
 "nbformat": 4,
 "nbformat_minor": 2
}
