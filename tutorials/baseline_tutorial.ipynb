{
 "cells": [
  {
   "cell_type": "code",
   "execution_count": 1,
   "metadata": {},
   "outputs": [],
   "source": [
    "# this is to setup the path so we can import the mindpype library\n",
    "import os; os.sys.path.append(os.path.dirname(os.path.abspath('.')))"
   ]
  },
  {
   "cell_type": "code",
   "execution_count": 2,
   "metadata": {},
   "outputs": [],
   "source": [
    "import mindpype as mp\n",
    "import pkgutil, numpy as np"
   ]
  },
  {
   "cell_type": "markdown",
   "metadata": {},
   "source": [
    "The first step to creating a pipeline is to create a session, which serves as a sandbox for all components in the pipeline."
   ]
  },
  {
   "cell_type": "code",
   "execution_count": 3,
   "metadata": {},
   "outputs": [],
   "source": [
    "# Create the pipeline using the factory method\n",
    "session = mp.Session.create()"
   ]
  },
  {
   "cell_type": "markdown",
   "metadata": {},
   "source": [
    "Following the creation of the pipeline, we need to create the graphs, which are the representations of the pipeline in MindPype.\n",
    "\n",
    "Each distinct pipeline would require a different graph object. For this tutorial, we will only require a single graph."
   ]
  },
  {
   "cell_type": "code",
   "execution_count": 4,
   "metadata": {},
   "outputs": [],
   "source": [
    "# Create the graph using the factory method\n",
    "graph = mp.Graph.create(session)"
   ]
  },
  {
   "cell_type": "markdown",
   "metadata": {},
   "source": [
    "With a graph created, we can now attach our input and output data containers. Since the input data is known, we can create a tensor (the data container in MindPype), using the ```create_from_data()``` factory method. For the output tensor, the library will automatically determine the correct size for the tensor, so we can create a \"virtual\" tensor, meaning that it can be modified by the library and does not contain any user provided data.       "
   ]
  },
  {
   "cell_type": "code",
   "execution_count": 5,
   "metadata": {},
   "outputs": [],
   "source": [
    "# Create a random input tensor using the factory method\n",
    "input_tensor = mp.Tensor.create_from_data(session, data=np.random.rand(10, 10))\n",
    "\n",
    "# Create an output tensor using the factory method\n",
    "output_tensor = mp.Tensor.create(session, shape=(10, 10))"
   ]
  },
  {
   "cell_type": "markdown",
   "metadata": {},
   "source": [
    "With the input and output tensors, we can know add the processing nodes to the pipeline. For this example, we are using a single processing step, or kernel; the baseline correction kernel. We can use the following factory method to add the kernel to a node, and add the node to the graph we created previously."
   ]
  },
  {
   "cell_type": "markdown",
   "metadata": {},
   "source": [
    "Futhermore, we must pass the input and output tensors, as well as the required parameters for the kernel (in this case, the baseline period), to the factory method shown below."
   ]
  },
  {
   "cell_type": "code",
   "execution_count": 6,
   "metadata": {},
   "outputs": [],
   "source": [
    "# Create the baseline node, passing the graph, input tensor, output tensor, and baseline period\n",
    "baseline_node = mp.kernels.BaselineCorrectionKernel.add_to_graph(graph, input_tensor, output_tensor, baseline_period = [0, 10])"
   ]
  },
  {
   "cell_type": "markdown",
   "metadata": {},
   "source": [
    "At this point we have created the processing pipeline, and added all of the required components. We can now use a graph method to verify that the structure of the pipeline is valid."
   ]
  },
  {
   "cell_type": "code",
   "execution_count": 7,
   "metadata": {},
   "outputs": [
    {
     "name": "stdout",
     "output_type": "stream",
     "text": [
      "Verifying kernel BaselineCorrection...\n"
     ]
    }
   ],
   "source": [
    "# Verify the structure and inputs/outputs of the graph\n",
    "graph.verify()\n"
   ]
  },
  {
   "cell_type": "markdown",
   "metadata": {},
   "source": [
    "Following the verification of the pipeline, we should now initialize the graph. This step is required for pipelines that have methods that need to be trained or fit (ie. classifiers), but optional for other pipelines."
   ]
  },
  {
   "cell_type": "code",
   "execution_count": 8,
   "metadata": {},
   "outputs": [],
   "source": [
    "# Initialize the graph - optional for this pipeline\n",
    "graph.initialize()"
   ]
  },
  {
   "cell_type": "markdown",
   "metadata": {},
   "source": [
    "The graph is now ready to execute the provided input data. For other paradigms, we may opt to execute the graph in a loop. If we were using class-separated data, we would need to pass a task label to poll the correct task."
   ]
  },
  {
   "cell_type": "code",
   "execution_count": 9,
   "metadata": {},
   "outputs": [
    {
     "name": "stdout",
     "output_type": "stream",
     "text": [
      "Executing trial with label: None\n"
     ]
    }
   ],
   "source": [
    "# Execute the graph\n",
    "graph.execute()\n",
    "\n"
   ]
  },
  {
   "cell_type": "code",
   "execution_count": 10,
   "metadata": {},
   "outputs": [
    {
     "name": "stdout",
     "output_type": "stream",
     "text": [
      "[[0.14070506 0.62204865 0.98030605 0.58592992 0.33121202 0.48122253\n",
      "  0.88649898 0.52962295 0.41105905 0.05868479]\n",
      " [0.79552362 0.49093481 0.02812619 0.22394131 0.26579121 0.22808016\n",
      "  0.73185244 0.80335125 0.15158811 0.2957604 ]\n",
      " [0.94232653 0.07572276 0.49243867 0.72549448 0.8612449  0.62907257\n",
      "  0.39313045 0.84703263 0.32474972 0.80671659]\n",
      " [0.32303957 0.44578549 0.05388623 0.68170718 0.60506163 0.98016904\n",
      "  0.99979419 0.7838448  0.84605226 0.11806063]\n",
      " [0.46373369 0.83275182 0.72886362 0.99624551 0.44166519 0.66733276\n",
      "  0.89452012 0.26031007 0.56338177 0.45011888]\n",
      " [0.47210486 0.75716526 0.56751047 0.98187012 0.46743085 0.87182571\n",
      "  0.10147679 0.41051062 0.32632948 0.97615911]\n",
      " [0.13913958 0.86313918 0.26025287 0.89463798 0.91449125 0.21363421\n",
      "  0.03509049 0.55724349 0.73230261 0.3596177 ]\n",
      " [0.1475992  0.39332856 0.73696375 0.26188794 0.32611825 0.99965466\n",
      "  0.49334128 0.72389672 0.11845279 0.01710657]\n",
      " [0.23739472 0.75699878 0.53378766 0.29446468 0.62965647 0.76935597\n",
      "  0.52638409 0.58240208 0.0851248  0.56106522]\n",
      " [0.17696653 0.28202254 0.60407568 0.64783754 0.61168963 0.85404283\n",
      "  0.46561749 0.49149919 0.45116675 0.1584554 ]]\n",
      "[[-0.36202394  0.11931965  0.47757705  0.08320092 -0.17151698 -0.02150647\n",
      "   0.38376998  0.02689395 -0.09166995 -0.44404421]\n",
      " [ 0.39402867  0.08943986 -0.37336876 -0.17755364 -0.13570374 -0.17341479\n",
      "   0.33035749  0.4018563  -0.24990684 -0.10573455]\n",
      " [ 0.33253359 -0.53407017 -0.11735426  0.11570155  0.25145197  0.01927964\n",
      "  -0.21666248  0.2372397  -0.28504321  0.19692366]\n",
      " [-0.26070054 -0.13795461 -0.52985387  0.09796707  0.02132153  0.39642894\n",
      "   0.41605409  0.2001047   0.26231216 -0.46567947]\n",
      " [-0.16615865  0.20285948  0.09897128  0.36635317 -0.18822715  0.03744041\n",
      "   0.26462777 -0.36958227 -0.06651057 -0.17977346]\n",
      " [-0.12113347  0.16392694 -0.02572786  0.38863179 -0.12580747  0.27858739\n",
      "  -0.49176154 -0.18272771 -0.26690885  0.38292078]\n",
      " [-0.35781536  0.36618425 -0.23670207  0.39768305  0.41753632 -0.28332073\n",
      "  -0.46186444  0.06028855  0.23534768 -0.13733724]\n",
      " [-0.27423577 -0.02850641  0.31512878 -0.15994703 -0.09571672  0.57781969\n",
      "   0.07150631  0.30206174 -0.30338218 -0.4047284 ]\n",
      " [-0.26026873  0.25933533  0.03612421 -0.20319876  0.13199302  0.27169253\n",
      "   0.02872065  0.08473863 -0.41253865  0.06340178]\n",
      " [-0.29737083 -0.19231482  0.12973832  0.17350019  0.13735227  0.37970547\n",
      "  -0.00871987  0.01716183 -0.02317061 -0.31588196]]\n"
     ]
    }
   ],
   "source": [
    "# Visualize the input and output data\n",
    "print(input_tensor.data)\n",
    "print(output_tensor.data)"
   ]
  },
  {
   "cell_type": "code",
   "execution_count": 11,
   "metadata": {},
   "outputs": [],
   "source": [
    "# Confirm proper functionality\n",
    "corrected = input_tensor.data - np.mean(input_tensor.data, axis = -1, keepdims = True)\n",
    "\n",
    "assert np.allclose(output_tensor.data, corrected)"
   ]
  }
 ],
 "metadata": {
  "kernelspec": {
   "display_name": "bcipy_venv",
   "language": "python",
   "name": "python3"
  },
  "language_info": {
   "codemirror_mode": {
    "name": "ipython",
    "version": 3
   },
   "file_extension": ".py",
   "mimetype": "text/x-python",
   "name": "python",
   "nbconvert_exporter": "python",
   "pygments_lexer": "ipython3",
   "version": "3.9.18"
  },
  "orig_nbformat": 4
 },
 "nbformat": 4,
 "nbformat_minor": 2
}
