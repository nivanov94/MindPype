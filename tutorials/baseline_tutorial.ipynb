{
 "cells": [
  {
   "cell_type": "code",
   "execution_count": 1,
   "metadata": {},
   "outputs": [],
   "source": [
    "import mindpype as mp\n",
    "import pkgutil, numpy as np"
   ]
  },
  {
   "cell_type": "markdown",
   "metadata": {},
   "source": [
    "The first step to creating a pipeline is to create a session, which serves as a sandbox for all components in the pipeline."
   ]
  },
  {
   "cell_type": "code",
   "execution_count": 2,
   "metadata": {},
   "outputs": [],
   "source": [
    "# Create the pipeline using the factory method\n",
    "session = mp.Session.create()"
   ]
  },
  {
   "cell_type": "markdown",
   "metadata": {},
   "source": [
    "Following the creation of the pipeline, we need to create the graphs, which are the representations of the pipeline in MindPype.\n",
    "\n",
    "Each distinct pipeline would require a different graph object. For this tutorial, we will only require a single graph."
   ]
  },
  {
   "cell_type": "code",
   "execution_count": 3,
   "metadata": {},
   "outputs": [],
   "source": [
    "# Create the graph using the factory method\n",
    "graph = mp.Graph.create(session)"
   ]
  },
  {
   "cell_type": "markdown",
   "metadata": {},
   "source": [
    "With a graph created, we can now attach our input and output data containers. Since the input data is known, we can create a tensor (the data container in MindPype), using the ```create_from_data()``` factory method. For the output tensor, the library will automatically determine the correct size for the tensor, so we can create a \"virtual\" tensor, meaning that it can be modified by the library and does not contain any user provided data.       "
   ]
  },
  {
   "cell_type": "code",
   "execution_count": 4,
   "metadata": {},
   "outputs": [],
   "source": [
    "# Create a random input tensor using the factory method\n",
    "input_tensor = mp.Tensor.create_from_data(session, shape=(10, 10), data=np.random.rand(10, 10))\n",
    "\n",
    "# Create an output tensor using the factory method\n",
    "output_tensor = mp.Tensor.create(session, shape=(10, 10))\n"
   ]
  },
  {
   "cell_type": "markdown",
   "metadata": {},
   "source": [
    "With the input and output tensors, we can know add the processing nodes to the pipeline. For this example, we are using a single processing step, or kernel; the baseline correction kernel. We can use the following factory method to add  the kernel to a node, and add the node to the graph we created previously.\n",
    "\n",
    "Futhermore, we must pass the input and output tensors, as well as the required parameters for the kernel (in this case, the baseline period), to the factory method shown below."
   ]
  },
  {
   "cell_type": "code",
   "execution_count": 5,
   "metadata": {},
   "outputs": [],
   "source": [
    "# Create the baseline node, passing the graph, input tensor, output tensor, and baseline period\n",
    "baseline_node = mp.kernels.BaselineCorrectionKernel.add_baseline_node(graph, input_tensor, output_tensor, baseline_period = [0, 10])"
   ]
  },
  {
   "cell_type": "markdown",
   "metadata": {},
   "source": [
    "At this point we have created the processing pipeline, and added all of the required components. We can now use a graph method to verify that the structure of the pipeline is valid."
   ]
  },
  {
   "cell_type": "code",
   "execution_count": 6,
   "metadata": {},
   "outputs": [
    {
     "name": "stdout",
     "output_type": "stream",
     "text": [
      "\t\tBaselineCorrectionNode Scheduled\n"
     ]
    }
   ],
   "source": [
    "# Verify the structure and inputs/outputs of the graph\n",
    "graph.verify()\n"
   ]
  },
  {
   "cell_type": "markdown",
   "metadata": {},
   "source": [
    "Following the verification of the pipeline, we should now initialize the graph. This step is required for pipelines that have methods that need to be trained or fit (ie. classifiers), but optional for other pipelines."
   ]
  },
  {
   "cell_type": "code",
   "execution_count": 7,
   "metadata": {},
   "outputs": [],
   "source": [
    "# Initialize the graph - optional for this pipeline\n",
    "graph.initialize()"
   ]
  },
  {
   "cell_type": "markdown",
   "metadata": {},
   "source": [
    "The graph is now ready to execute the provided input data. For other paradigms, we may opt to execute the graph in a loop. If we were using class-separated data, we would need to pass a task label to poll the correct task."
   ]
  },
  {
   "cell_type": "code",
   "execution_count": 8,
   "metadata": {},
   "outputs": [
    {
     "name": "stdout",
     "output_type": "stream",
     "text": [
      "Executing trial with label: None\n"
     ]
    }
   ],
   "source": [
    "# Execute the graph\n",
    "graph.execute()\n",
    "\n"
   ]
  },
  {
   "cell_type": "code",
   "execution_count": 9,
   "metadata": {},
   "outputs": [
    {
     "name": "stdout",
     "output_type": "stream",
     "text": [
      "[[0.96254846 0.77289898 0.98568685 0.0173034  0.15257848 0.07506623\n",
      "  0.5803459  0.17873377 0.01719537 0.23388644]\n",
      " [0.54397459 0.21944208 0.56864143 0.53872194 0.58197083 0.10588558\n",
      "  0.61097943 0.1329525  0.17725466 0.27356171]\n",
      " [0.0030673  0.56898324 0.99580475 0.0483017  0.39269208 0.89395629\n",
      "  0.70369777 0.65177145 0.66993895 0.44707632]\n",
      " [0.03703778 0.71323135 0.51425892 0.02302154 0.66113855 0.70915904\n",
      "  0.30477382 0.68236756 0.34577397 0.59424369]\n",
      " [0.67577325 0.04523109 0.49143855 0.34751092 0.30895924 0.91487255\n",
      "  0.01987653 0.82764485 0.06902982 0.45552234]\n",
      " [0.58225383 0.1171625  0.18152385 0.13378601 0.34832395 0.89696309\n",
      "  0.59477179 0.04551363 0.45482885 0.68390618]\n",
      " [0.77067001 0.67826841 0.80097253 0.46767192 0.16300145 0.43150803\n",
      "  0.88256771 0.62277941 0.19447759 0.906693  ]\n",
      " [0.07073578 0.24876176 0.12985351 0.54553099 0.77667906 0.57449244\n",
      "  0.29527138 0.36784826 0.1596386  0.91882122]\n",
      " [0.30479494 0.56364278 0.40622804 0.6781946  0.81733909 0.073587\n",
      "  0.15008394 0.32858287 0.79068649 0.09577928]\n",
      " [0.26987729 0.15819635 0.87035886 0.99794186 0.91904614 0.48847813\n",
      "  0.1849168  0.77220993 0.2657999  0.6353035 ]]\n",
      "[[ 0.56492407  0.37527459  0.58806246 -0.38032099 -0.24504591 -0.32255815\n",
      "   0.18272152 -0.21889062 -0.38042902 -0.16373795]\n",
      " [ 0.16863612 -0.1558964   0.19330296  0.16338346  0.20663236 -0.2694529\n",
      "   0.23564095 -0.24238597 -0.19808382 -0.10177676]\n",
      " [-0.53446168  0.03145426  0.45827577 -0.48922729 -0.14483691  0.35642731\n",
      "   0.16616878  0.11424247  0.13240996 -0.09045267]\n",
      " [-0.42146284  0.25473073  0.0557583  -0.43547908  0.20263793  0.25065841\n",
      "  -0.15372681  0.22386694 -0.11272665  0.13574307]\n",
      " [ 0.26018733 -0.37035482  0.07585264 -0.06807499 -0.10662667  0.49928664\n",
      "  -0.39570938  0.41205893 -0.3465561   0.03993643]\n",
      " [ 0.17835046 -0.28674086 -0.22237952 -0.27011736 -0.05557942  0.49305972\n",
      "   0.19086842 -0.35838974  0.05092549  0.28000281]\n",
      " [ 0.178809    0.08640741  0.20911152 -0.12418908 -0.42885956 -0.16035298\n",
      "   0.2907067   0.03091841 -0.39738342  0.314832  ]\n",
      " [-0.33802752 -0.16000154 -0.2789098   0.13676769  0.36791576  0.16572914\n",
      "  -0.11349192 -0.04091504 -0.2491247   0.51005792]\n",
      " [-0.11609697  0.14275087 -0.01466386  0.25730269  0.39644719 -0.3473049\n",
      "  -0.27080796 -0.09230903  0.36979459 -0.32511263]\n",
      " [-0.28633558 -0.39801653  0.31414598  0.44172898  0.36283327 -0.06773475\n",
      "  -0.37129607  0.21599705 -0.29041298  0.07909063]]\n"
     ]
    }
   ],
   "source": [
    "# Visualize the input and output data\n",
    "print(input_tensor.data)\n",
    "print(output_tensor.data)"
   ]
  },
  {
   "cell_type": "code",
   "execution_count": 10,
   "metadata": {},
   "outputs": [],
   "source": [
    "# Confirm proper functionality\n",
    "corrected = input_tensor.data - np.mean(input_tensor.data, axis = -1, keepdims = True)\n",
    "\n",
    "assert np.allclose(output_tensor.data, corrected)"
   ]
  }
 ],
 "metadata": {
  "kernelspec": {
   "display_name": "bcipy_venv",
   "language": "python",
   "name": "python3"
  },
  "language_info": {
   "codemirror_mode": {
    "name": "ipython",
    "version": 3
   },
   "file_extension": ".py",
   "mimetype": "text/x-python",
   "name": "python",
   "nbconvert_exporter": "python",
   "pygments_lexer": "ipython3",
   "version": "3.9.7"
  },
  "orig_nbformat": 4
 },
 "nbformat": 4,
 "nbformat_minor": 2
}
