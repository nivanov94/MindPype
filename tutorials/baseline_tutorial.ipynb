{
 "cells": [
  {
   "cell_type": "code",
   "execution_count": 1,
   "metadata": {},
   "outputs": [],
   "source": [
    "# this is to setup the path so we can import the mindpype library\n",
    "import os; os.sys.path.append(os.path.dirname(os.path.abspath('.')))"
   ]
  },
  {
   "cell_type": "code",
   "execution_count": 2,
   "metadata": {},
   "outputs": [],
   "source": [
    "import mindpype as mp\n",
    "import pkgutil, numpy as np"
   ]
  },
  {
   "cell_type": "markdown",
   "metadata": {},
   "source": [
    "The first step to creating a pipeline is to create a session, which serves as a sandbox for all components in the pipeline."
   ]
  },
  {
   "cell_type": "code",
   "execution_count": 3,
   "metadata": {},
   "outputs": [],
   "source": [
    "# Create the pipeline using the factory method\n",
    "session = mp.Session.create()"
   ]
  },
  {
   "cell_type": "markdown",
   "metadata": {},
   "source": [
    "Following the creation of the pipeline, we need to create the graphs, which are the representations of the pipeline in MindPype.\n",
    "\n",
    "Each distinct pipeline would require a different graph object. For this tutorial, we will only require a single graph."
   ]
  },
  {
   "cell_type": "code",
   "execution_count": 4,
   "metadata": {},
   "outputs": [],
   "source": [
    "# Create the graph using the factory method\n",
    "graph = mp.Graph.create(session)"
   ]
  },
  {
   "cell_type": "markdown",
   "metadata": {},
   "source": [
    "With a graph created, we can now attach our input and output data containers. Since the input data is known, we can create a tensor (the data container in MindPype), using the ```create_from_data()``` factory method. For the output tensor, the library will automatically determine the correct size for the tensor, so we can create a \"virtual\" tensor, meaning that it can be modified by the library and does not contain any user provided data.       "
   ]
  },
  {
   "cell_type": "code",
   "execution_count": 5,
   "metadata": {},
   "outputs": [],
   "source": [
    "# Create a random input tensor using the factory method\n",
    "input_tensor = mp.Tensor.create_from_data(session, data=np.random.rand(10, 10))\n",
    "\n",
    "# Create an output tensor using the factory method\n",
    "output_tensor = mp.Tensor.create(session, shape=(10, 10))"
   ]
  },
  {
   "cell_type": "markdown",
   "metadata": {},
   "source": [
    "With the input and output tensors, we can know add the processing nodes to the pipeline. For this example, we are using a single processing step, or kernel; the baseline correction kernel. We can use the following factory method to add the kernel to a node, and add the node to the graph we created previously."
   ]
  },
  {
   "cell_type": "markdown",
   "metadata": {},
   "source": [
    "Futhermore, we must pass the input and output tensors, as well as the required parameters for the kernel (in this case, the baseline period), to the factory method shown below."
   ]
  },
  {
   "cell_type": "code",
   "execution_count": 6,
   "metadata": {},
   "outputs": [],
   "source": [
    "# Create the baseline node, passing the graph, input tensor, output tensor, and baseline period\n",
    "baseline_node = mp.kernels.BaselineCorrectionKernel.add_to_graph(graph, input_tensor, output_tensor, baseline_period = [0, 10])"
   ]
  },
  {
   "cell_type": "markdown",
   "metadata": {},
   "source": [
    "At this point we have created the processing pipeline, and added all of the required components. We can now use a graph method to verify that the structure of the pipeline is valid."
   ]
  },
  {
   "cell_type": "code",
   "execution_count": 7,
   "metadata": {},
   "outputs": [
    {
     "name": "stdout",
     "output_type": "stream",
     "text": [
      "Verifying kernel BaselineCorrection...\n"
     ]
    }
   ],
   "source": [
    "# Verify the structure and inputs/outputs of the graph\n",
    "graph.verify()\n"
   ]
  },
  {
   "cell_type": "markdown",
   "metadata": {},
   "source": [
    "Following the verification of the pipeline, we should now initialize the graph. This step is required for pipelines that have methods that need to be trained or fit (ie. classifiers), but optional for other pipelines."
   ]
  },
  {
   "cell_type": "code",
   "execution_count": 8,
   "metadata": {},
   "outputs": [],
   "source": [
    "# Initialize the graph - optional for this pipeline\n",
    "graph.initialize()"
   ]
  },
  {
   "cell_type": "markdown",
   "metadata": {},
   "source": [
    "The graph is now ready to execute the provided input data. For other paradigms, we may opt to execute the graph in a loop. If we were using class-separated data, we would need to pass a task label to poll the correct task."
   ]
  },
  {
   "cell_type": "code",
   "execution_count": 9,
   "metadata": {},
   "outputs": [
    {
     "name": "stdout",
     "output_type": "stream",
     "text": [
      "Executing trial with label: None\n"
     ]
    }
   ],
   "source": [
    "# Execute the graph\n",
    "graph.execute()\n",
    "\n"
   ]
  },
  {
   "cell_type": "code",
   "execution_count": 10,
   "metadata": {},
   "outputs": [
    {
     "name": "stdout",
     "output_type": "stream",
     "text": [
      "[[7.34110771e-01 4.57722669e-01 6.66531872e-01 7.11005230e-01\n",
      "  7.92314656e-01 5.17775675e-01 1.81822919e-01 5.78707113e-01\n",
      "  4.67047322e-04 4.97898212e-01]\n",
      " [1.95414557e-01 4.14465986e-02 7.61692333e-01 9.18318212e-01\n",
      "  1.65679925e-01 8.15532606e-01 8.42312864e-01 1.29486755e-02\n",
      "  2.40723641e-01 9.20204461e-01]\n",
      " [8.64104599e-01 3.26856007e-01 9.27892817e-01 6.80225847e-01\n",
      "  6.52112772e-01 5.53260594e-01 5.27720072e-01 8.54729520e-01\n",
      "  1.01104138e-02 2.89426484e-01]\n",
      " [4.60970760e-01 5.93051275e-01 2.15962281e-01 2.28389197e-01\n",
      "  2.71217301e-01 2.42680762e-01 4.90356274e-01 4.24047406e-01\n",
      "  9.95146262e-01 8.79795977e-01]\n",
      " [7.60716223e-02 2.79496842e-01 9.66411182e-01 1.91701123e-01\n",
      "  2.07176762e-01 2.94752828e-01 7.80670916e-01 6.26475926e-01\n",
      "  9.60608542e-01 9.83592492e-01]\n",
      " [9.53101755e-01 4.79378256e-01 7.70374397e-01 1.67977667e-02\n",
      "  8.40488551e-01 8.29145311e-01 4.54152528e-01 3.01784268e-01\n",
      "  7.91131372e-01 6.42619367e-01]\n",
      " [6.27576194e-01 8.88907700e-01 2.01042348e-01 4.61537560e-01\n",
      "  7.08487584e-01 2.98443740e-01 8.52323693e-01 1.88357823e-01\n",
      "  3.64196512e-01 3.83053421e-01]\n",
      " [8.40127210e-01 8.63475063e-01 9.83582440e-01 3.89252960e-01\n",
      "  1.01014482e-01 7.56041757e-01 6.58464787e-01 6.13174190e-01\n",
      "  5.27742641e-01 3.75233422e-01]\n",
      " [1.29308696e-01 2.79020837e-01 9.29930093e-01 1.74000863e-01\n",
      "  1.45175453e-01 5.41506597e-02 3.13778010e-01 4.96680341e-02\n",
      "  7.74805320e-02 5.10582853e-01]\n",
      " [1.16700420e-01 3.98433632e-01 2.00584669e-01 2.15468428e-01\n",
      "  8.29881732e-01 2.98263798e-01 5.20706921e-01 2.19201369e-01\n",
      "  6.70763194e-01 4.77539524e-01]]\n",
      "[[ 0.22027515 -0.05611295  0.15269626  0.19716961  0.27847904  0.00394006\n",
      "  -0.3320127   0.0648715  -0.51336857 -0.0159374 ]\n",
      " [-0.29601283 -0.44998079  0.27026495  0.42689082 -0.32574746  0.32410522\n",
      "   0.35088548 -0.47847871 -0.25070375  0.42877707]\n",
      " [ 0.29546069 -0.24178791  0.3592489   0.11158193  0.08346886 -0.01538332\n",
      "  -0.04092384  0.28608561 -0.5585335  -0.27921743]\n",
      " [-0.01919099  0.11288953 -0.26419947 -0.25177255 -0.20894445 -0.23748099\n",
      "   0.01019452 -0.05611434  0.51498451  0.39963423]\n",
      " [-0.4606242  -0.25719898  0.42971536 -0.3449947  -0.32951906 -0.241943\n",
      "   0.24397509  0.0897801   0.42391272  0.44689667]\n",
      " [ 0.3452044  -0.1285191   0.16247704 -0.59109959  0.23259119  0.22124795\n",
      "  -0.15374483 -0.30611309  0.18323402  0.03472201]\n",
      " [ 0.13018354  0.39151504 -0.29635031 -0.0358551   0.21109493 -0.19894892\n",
      "   0.35493104 -0.30903483 -0.13319615 -0.11433924]\n",
      " [ 0.22931631  0.25266417  0.37277154 -0.22155794 -0.50979641  0.14523086\n",
      "   0.04765389  0.0023633  -0.08306825 -0.23557747]\n",
      " [-0.13700091  0.01271123  0.66362049 -0.09230874 -0.12113415 -0.21215894\n",
      "   0.04746841 -0.21664157 -0.18882907  0.24427325]\n",
      " [-0.27805395  0.00367926 -0.1941697  -0.17928594  0.43512736 -0.09649057\n",
      "   0.12595255 -0.175553    0.27600883  0.08278516]]\n"
     ]
    }
   ],
   "source": [
    "# Visualize the input and output data\n",
    "print(input_tensor.data)\n",
    "print(output_tensor.data)"
   ]
  },
  {
   "cell_type": "code",
   "execution_count": 11,
   "metadata": {},
   "outputs": [
    {
     "name": "stdout",
     "output_type": "stream",
     "text": [
      "[[ 0.00394006 -0.3320127   0.0648715  -0.51336857 -0.0159374 ]\n",
      " [ 0.32410522  0.35088548 -0.47847871 -0.25070375  0.42877707]\n",
      " [-0.01538332 -0.04092384  0.28608561 -0.5585335  -0.27921743]\n",
      " [-0.23748099  0.01019452 -0.05611434  0.51498451  0.39963423]\n",
      " [-0.241943    0.24397509  0.0897801   0.42391272  0.44689667]\n",
      " [ 0.22124795 -0.15374483 -0.30611309  0.18323402  0.03472201]\n",
      " [-0.19894892  0.35493104 -0.30903483 -0.13319615 -0.11433924]\n",
      " [ 0.14523086  0.04765389  0.0023633  -0.08306825 -0.23557747]\n",
      " [-0.21215894  0.04746841 -0.21664157 -0.18882907  0.24427325]\n",
      " [-0.09649057  0.12595255 -0.175553    0.27600883  0.08278516]]\n",
      "[[ 0.00394006 -0.3320127   0.0648715  -0.51336857 -0.0159374 ]\n",
      " [ 0.32410522  0.35088548 -0.47847871 -0.25070375  0.42877707]\n",
      " [-0.01538332 -0.04092384  0.28608561 -0.5585335  -0.27921743]\n",
      " [-0.23748099  0.01019452 -0.05611434  0.51498451  0.39963423]\n",
      " [-0.241943    0.24397509  0.0897801   0.42391272  0.44689667]\n",
      " [ 0.22124795 -0.15374483 -0.30611309  0.18323402  0.03472201]\n",
      " [-0.19894892  0.35493104 -0.30903483 -0.13319615 -0.11433924]\n",
      " [ 0.14523086  0.04765389  0.0023633  -0.08306825 -0.23557747]\n",
      " [-0.21215894  0.04746841 -0.21664157 -0.18882907  0.24427325]\n",
      " [-0.09649057  0.12595255 -0.175553    0.27600883  0.08278516]]\n"
     ]
    }
   ],
   "source": [
    "# Confirm proper functionality\n",
    "corrected = input_tensor.data - np.mean(input_tensor.data, axis = -1, keepdims = True)\n",
    "assert np.allclose(output_tensor.data, corrected)"
   ]
  }
 ],
 "metadata": {
  "kernelspec": {
   "display_name": "bcipy_venv",
   "language": "python",
   "name": "python3"
  },
  "language_info": {
   "codemirror_mode": {
    "name": "ipython",
    "version": 3
   },
   "file_extension": ".py",
   "mimetype": "text/x-python",
   "name": "python",
   "nbconvert_exporter": "python",
   "pygments_lexer": "ipython3",
   "version": "3.9.18"
  },
  "orig_nbformat": 4
 },
 "nbformat": 4,
 "nbformat_minor": 2
}
