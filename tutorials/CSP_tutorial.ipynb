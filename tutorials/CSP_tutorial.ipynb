{
 "cells": [
  {
   "cell_type": "code",
   "execution_count": null,
   "metadata": {},
   "outputs": [],
   "source": [
    "# For debugging \n",
    "import sys, os\n",
    "sys.path.insert(0, os.getcwd())\n",
    "\n",
    "# Create a simple graph for testing\n",
    "from bcipy import bcipy\n",
    "\n",
    "import numpy as np\n",
    "from random import shuffle"
   ]
  },
  {
   "cell_type": "code",
   "execution_count": null,
   "metadata": {},
   "outputs": [],
   "source": [
    "# create a session and a graph\n",
    "session = bcipy.Session.create()\n",
    "trial_graph = bcipy.Graph.create(session)"
   ]
  },
  {
   "cell_type": "code",
   "execution_count": null,
   "metadata": {},
   "outputs": [],
   "source": [
    "# Create random initialization (training) data and labels\n",
    "training_data = np.random.random((120,12,500))   \n",
    "labels = np.asarray([0]*60 + [1]*60)\n",
    "\n",
    "\n",
    "# Create tensors from the data and labels\n",
    "init_data = bcipy.Tensor.create_from_data(session,training_data.shape,training_data)\n",
    "init_labels = bcipy.Tensor.create_from_data(session,labels.shape,labels)\n"
   ]
  },
  {
   "cell_type": "code",
   "execution_count": null,
   "metadata": {},
   "outputs": [],
   "source": [
    "# Create an input tensor with dummy data\n",
    "input_tensor = bcipy.Tensor.create_from_data(session, (12, 500), np.random.randn(12, 500))\n",
    "\n",
    "# Create a scalar that will be populated with the classifier label\n",
    "classifier_label = bcipy.Scalar.create_from_value(session,-1)\n",
    "\n",
    "# Create intermediate (virtual) tensors for the intermediate steps of the pipeline\n",
    "intermediate_tensors = [bcipy.Tensor.create_virtual(session), bcipy.Tensor.create_virtual(session)]"
   ]
  },
  {
   "cell_type": "code",
   "execution_count": null,
   "metadata": {},
   "outputs": [],
   "source": [
    "# create filter parameters\n",
    "order = 4\n",
    "bandpass = (8,35) # in Hz\n",
    "fs = 250\n",
    "\n",
    "# Create a filter object using the parameters \n",
    "filter_obj = bcipy.Filter.create_butter(session,order,bandpass,btype='bandpass',fs=fs,implementation='sos')"
   ]
  },
  {
   "cell_type": "code",
   "execution_count": null,
   "metadata": {},
   "outputs": [],
   "source": [
    "# Create a classifier object\n",
    "classifier = bcipy.Classifier.create_LDA(session)"
   ]
  },
  {
   "cell_type": "code",
   "execution_count": null,
   "metadata": {},
   "outputs": [],
   "source": [
    "# add the processing nodes to the graph using the factory methods\n",
    "filter_kernel = bcipy.kernels.FilterKernel.add_filter_node(trial_graph,input_tensor,filter_obj,intermediate_tensors[0], axis = 1)\n",
    "\n",
    "CSP_kernel = bcipy.kernels.CommonSpatialPatternKernel.add_uninitialized_CSP_node(trial_graph, intermediate_tensors[0], intermediate_tensors[1], init_data, init_labels, 2)\n",
    "\n",
    "LDA_kernel = bcipy.kernels.ClassifierKernel.add_classifier_node(trial_graph, intermediate_tensors[1], classifier, classifier_label, None, None)"
   ]
  },
  {
   "cell_type": "code",
   "execution_count": null,
   "metadata": {},
   "outputs": [],
   "source": [
    "# verify the session (i.e. schedule the nodes) and ensure the inputs and outputs are connected properly\n",
    "verify = trial_graph.verify()\n",
    "\n",
    "if verify != bcipy.BcipEnums.SUCCESS:\n",
    "    print(verify)\n",
    "    print(\"Test Failed D=\")"
   ]
  },
  {
   "cell_type": "code",
   "execution_count": null,
   "metadata": {},
   "outputs": [],
   "source": [
    "# Since the graph contains nodes that must be initialzed/trained, we must call initialize() before running the graph\n",
    "start = trial_graph.initialize()\n",
    "\n",
    "if start != bcipy.BcipEnums.SUCCESS:\n",
    "    print(start)\n",
    "    print(\"Test Failed D=\")"
   ]
  },
  {
   "cell_type": "code",
   "execution_count": null,
   "metadata": {},
   "outputs": [],
   "source": [
    "# RUN!\n",
    "sts = trial_graph.execute()\n",
    "    \n",
    "if sts == bcipy.BcipEnums.SUCCESS:\n",
    "    # print the value of the most recent trial\n",
    "    print(\"Trial {}, Predicted label = {}\\n\".format(1, classifier_label.data))\n",
    "else:\n",
    "    print(f\"Trial {1} raised error, status code: {sts}\")\n",
    "\n",
    "\n",
    "print(\"Test Passed =D\")"
   ]
  }
 ],
 "metadata": {
  "language_info": {
   "name": "python"
  },
  "orig_nbformat": 4
 },
 "nbformat": 4,
 "nbformat_minor": 2
}
