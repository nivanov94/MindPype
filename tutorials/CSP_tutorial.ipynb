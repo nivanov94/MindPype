{
 "cells": [
  {
   "cell_type": "code",
   "execution_count": 1,
   "metadata": {},
   "outputs": [],
   "source": [
    "# this is to setup the path so we can import the mindpype library\n",
    "import os; os.sys.path.append(os.path.dirname(os.path.abspath('.')))"
   ]
  },
  {
   "cell_type": "code",
   "execution_count": 2,
   "metadata": {},
   "outputs": [],
   "source": [
    "import mindpype as mp\n",
    "\n",
    "import numpy as np\n",
    "from random import shuffle"
   ]
  },
  {
   "cell_type": "code",
   "execution_count": 3,
   "metadata": {},
   "outputs": [],
   "source": [
    "# create a session and a graph\n",
    "session = mp.Session.create()\n",
    "trial_graph = mp.Graph.create(session)"
   ]
  },
  {
   "cell_type": "code",
   "execution_count": 4,
   "metadata": {},
   "outputs": [],
   "source": [
    "# Create random initialization (training) data and labels\n",
    "training_data = np.random.random((120,12,500))\n",
    "labels = np.asarray([0]*60 + [1]*60)\n",
    "\n",
    "\n",
    "# Create tensors from the data and labels\n",
    "init_data = mp.Tensor.create_from_data(session,training_data)\n",
    "init_labels = mp.Tensor.create_from_data(session,labels)\n"
   ]
  },
  {
   "cell_type": "code",
   "execution_count": 5,
   "metadata": {},
   "outputs": [],
   "source": [
    "# Create an input tensor with dummy data\n",
    "input_tensor = mp.Tensor.create_from_data(session, np.random.randn(12, 500))\n",
    "\n",
    "# Create a scalar that will be populated with the classifier label\n",
    "classifier_label = mp.Scalar.create_from_value(session,-1)\n",
    "\n",
    "# Create intermediate (virtual) tensors for the intermediate steps of the pipeline\n",
    "intermediate_tensors = [mp.Tensor.create_virtual(session),\n",
    "                        mp.Tensor.create_virtual(session),\n",
    "                        mp.Tensor.create_virtual(session),\n",
    "                        mp.Tensor.create_virtual(session)]"
   ]
  },
  {
   "cell_type": "code",
   "execution_count": 6,
   "metadata": {},
   "outputs": [],
   "source": [
    "# create filter parameters\n",
    "order = 4\n",
    "bandpass = (8,35) # in Hz\n",
    "fs = 250\n",
    "\n",
    "# Create a filter object using the parameters\n",
    "filter_obj = mp.Filter.create_butter(session,order,bandpass,btype='bandpass',fs=fs,implementation='sos')"
   ]
  },
  {
   "cell_type": "code",
   "execution_count": 7,
   "metadata": {},
   "outputs": [],
   "source": [
    "# Create a classifier object\n",
    "classifier = mp.Classifier.create_LDA(session)"
   ]
  },
  {
   "cell_type": "code",
   "execution_count": 8,
   "metadata": {},
   "outputs": [],
   "source": [
    "# add the processing nodes to the graph using the factory methods\n",
    "filter_kernel = mp.kernels.FilterKernel.add_to_graph(trial_graph,input_tensor,filter_obj,intermediate_tensors[0], axis = 1)\n",
    "\n",
    "CSP_kernel = mp.kernels.CommonSpatialPatternKernel.add_to_graph(trial_graph, intermediate_tensors[0], intermediate_tensors[1], init_data, init_labels, 2)\n",
    "var_kernel = mp.kernels.VarKernel.add_to_graph(trial_graph, intermediate_tensors[1], intermediate_tensors[2], axis = 1)\n",
    "log_kernel = mp.kernels.LogKernel.add_to_graph(trial_graph, intermediate_tensors[2], intermediate_tensors[3])\n",
    "LDA_kernel = mp.kernels.ClassifierKernel.add_to_graph(trial_graph, intermediate_tensors[3], classifier, classifier_label)"
   ]
  },
  {
   "cell_type": "code",
   "execution_count": 9,
   "metadata": {},
   "outputs": [
    {
     "name": "stdout",
     "output_type": "stream",
     "text": [
      "Verifying kernel Filter...\n",
      "Verifying kernel CSP...\n",
      "Verifying kernel Var...\n",
      "Verifying kernel Log...\n",
      "Verifying kernel Classifier...\n"
     ]
    }
   ],
   "source": [
    "# verify the session (i.e. schedule the nodes) and ensure the inputs and outputs are connected properly\n",
    "trial_graph.verify()"
   ]
  },
  {
   "cell_type": "code",
   "execution_count": 10,
   "metadata": {},
   "outputs": [],
   "source": [
    "# Since the graph contains nodes that must be initialzed/trained, we must call initialize() before running the graph\n",
    "trial_graph.initialize()"
   ]
  },
  {
   "cell_type": "code",
   "execution_count": 11,
   "metadata": {},
   "outputs": [
    {
     "name": "stdout",
     "output_type": "stream",
     "text": [
      "Executing trial with label: None\n",
      "Trial 1, Predicted label = 1\n",
      "\n",
      "Test Passed =D\n"
     ]
    }
   ],
   "source": [
    "# RUN!\n",
    "trial_graph.execute()\n",
    "# print the value of the most recent trial\n",
    "print(\"Trial {}, Predicted label = {}\\n\".format(1, classifier_label.data))\n",
    "\n",
    "\n",
    "print(\"Test Passed =D\")"
   ]
  }
 ],
 "metadata": {
  "kernelspec": {
   "display_name": "base",
   "language": "python",
   "name": "python3"
  },
  "language_info": {
   "codemirror_mode": {
    "name": "ipython",
    "version": 3
   },
   "file_extension": ".py",
   "mimetype": "text/x-python",
   "name": "python",
   "nbconvert_exporter": "python",
   "pygments_lexer": "ipython3",
   "version": "3.9.18"
  },
  "orig_nbformat": 4
 },
 "nbformat": 4,
 "nbformat_minor": 2
}
