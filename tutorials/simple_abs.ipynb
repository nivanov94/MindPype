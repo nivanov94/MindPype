{
 "cells": [
  {
   "cell_type": "markdown",
   "metadata": {},
   "source": [
    "This tutorial will demonstrate how to create a simple absolute value pipeline using MindPype."
   ]
  },
  {
   "cell_type": "code",
   "execution_count": null,
   "metadata": {},
   "outputs": [],
   "source": [
    "import os\n",
    "os.sys.path.append(os.path.dirname(os.path.abspath('.')))"
   ]
  },
  {
   "cell_type": "code",
   "execution_count": null,
   "metadata": {},
   "outputs": [],
   "source": [
    "import numpy as np\n",
    "from mindpype import mindpype as mp"
   ]
  },
  {
   "cell_type": "markdown",
   "metadata": {},
   "source": [
    "The first step to creating a pipeline is to create a session, which serves as a sandbox for all components in the pipeline. After creating the session we will create a graph which represents the pipeline."
   ]
  },
  {
   "cell_type": "code",
   "execution_count": null,
   "metadata": {},
   "outputs": [],
   "source": [
    "s = mp.Session.create()\n",
    "g = mp.Graph.create(s)"
   ]
  },
  {
   "cell_type": "markdown",
   "metadata": {},
   "source": [
    "Next we will create our input and output data containers for the graph. We will use the ```create_from_data()``` factory method to create our input Tensor from an ndarray.\n",
    "\n",
    "We will also create a Tensor that is almost identical to our input Tensor, except it will only absolute values. We will use this second Tensor to evaluate if our absolute node produces the expected output.\n",
    "\n",
    "As well, we will create a Tensor to store our output data. We can create a Tensor of a specified shape using the ```Tensor.create()``` factory method."
   ]
  },
  {
   "cell_type": "code",
   "execution_count": null,
   "metadata": {},
   "outputs": [],
   "source": [
    "data_in = np.asarray([[1,2,3],[-1,-2,-3]])\n",
    "t_in1 = mp.Tensor.create_from_data(s, data_in)\n",
    "t_in2 = mp.Tensor.create_from_data(s, np.abs(data_in))\n",
    "t_out = mp.Tensor.create(s, (2,3))"
   ]
  },
  {
   "cell_type": "markdown",
   "metadata": {},
   "source": [
    "We will also create a virtual Tensor to store our intermediate data by using the ```create_virtual()``` factory method."
   ]
  },
  {
   "cell_type": "code",
   "execution_count": null,
   "metadata": {},
   "outputs": [],
   "source": [
    "t_virt = mp.Tensor.create_virtual(s)"
   ]
  },
  {
   "cell_type": "markdown",
   "metadata": {},
   "source": [
    "Now, we will add our nodes to our graph using the ```add_to_graph()``` factory method. For our absolute pipeline we will first add a node that calculate the absolute value of our input tensor and store the result in our virtual tensor. The we will use an equality node to check if this result matches the expected output."
   ]
  },
  {
   "cell_type": "code",
   "execution_count": null,
   "metadata": {},
   "outputs": [],
   "source": [
    "mp.kernels.AbsoluteKernel.add_to_graph(g, t_in1, t_virt)\n",
    "mp.kernels.EqualKernel.add_to_graph(g, t_in2, t_virt, t_out)"
   ]
  },
  {
   "cell_type": "markdown",
   "metadata": {},
   "source": [
    "Finally, we will run our pipeline by calling the ```execute``` method on our graph and print out the absolute Tensor."
   ]
  },
  {
   "cell_type": "code",
   "execution_count": null,
   "metadata": {},
   "outputs": [],
   "source": [
    "g.execute()\n",
    "print(t_out.data)"
   ]
  }
 ],
 "metadata": {
  "language_info": {
   "name": "python"
  }
 },
 "nbformat": 4,
 "nbformat_minor": 2
}
