{
 "cells": [
  {
   "cell_type": "code",
   "execution_count": 1,
   "metadata": {},
   "outputs": [],
   "source": [
    "# this is to setup the path so we can import the mindpype library\n",
    "import os; os.sys.path.append(os.path.dirname(os.path.abspath('.')))"
   ]
  },
  {
   "cell_type": "code",
   "execution_count": 2,
   "metadata": {},
   "outputs": [],
   "source": [
    "# import mindpype\n",
    "import mindpype as mp\n",
    "import numpy as np"
   ]
  },
  {
   "cell_type": "code",
   "execution_count": 3,
   "metadata": {},
   "outputs": [
    {
     "name": "stdout",
     "output_type": "stream",
     "text": [
      "['P:/general_prism/Side Projects/Summer Student Onboarding project 2024/Data/JerrySelf\\\\sub-P004_ses-S001_task-vP300+2x2_run-007.xdf', 'P:/general_prism/Side Projects/Summer Student Onboarding project 2024/Data/JerrySelf\\\\sub-P004_ses-S001_task-vP300+2x2_run-008.xdf', 'P:/general_prism/Side Projects/Summer Student Onboarding project 2024/Data/JerrySelf\\\\sub-P004_ses-S001_task-vP300+2x2_run-009.xdf']\n"
     ]
    }
   ],
   "source": [
    "# get the training files\n",
    "from glob import glob\n",
    "training_files = glob(\"P:/general_prism/Side Projects/Summer Student Onboarding project 2024/Data/JerrySelf/*.xdf\")\n",
    "print(training_files)\n"
   ]
  },
  {
   "cell_type": "code",
   "execution_count": 4,
   "metadata": {},
   "outputs": [],
   "source": [
    "# create the mindpype session\n",
    "s = mp.Session.create()"
   ]
  },
  {
   "cell_type": "code",
   "execution_count": 5,
   "metadata": {},
   "outputs": [],
   "source": [
    "# define some session parameters\n",
    "Fs = 250\n",
    "Nc = 32\n",
    "trial_len = 1\n",
    "Ns = int(trial_len * Fs)\n",
    "\n",
    "start_time = 0.0\n",
    "end_time = 1.0\n",
    "\n",
    "start_ix = int(start_time * Fs) + len(f.coeffs[\"fir\"])\n",
    "end_ix = int(np.ceil(end_time * Fs)) + len(f.coeffs[\"fir\"])\n",
    "extract_indices = [\n",
    "    slice(None),\n",
    "    slice(start_ix, end_ix),\n",
    "]  # All epochs, all channels, start_time to end_time"
   ]
  },
  {
   "cell_type": "code",
   "execution_count": 6,
   "metadata": {},
   "outputs": [
    {
     "name": "stderr",
     "output_type": "stream",
     "text": [
      "c:\\Users\\ivanovn\\Documents\\MindPype\\mindpype\\source.py:158: RuntimeWarning: No task list provided. Infering tasks from the marker stream. This is only supported for Mindset P300 data.\n",
      "  marker_stream = self._filter_marker_stream(marker_stream)\n"
     ]
    }
   ],
   "source": [
    "# create the data sources\n",
    "\n",
    "# training data\n",
    "tr_data_src = mp.source.InputXDFFile.create_epoched(s, training_files, channels=range(Nc),\n",
    "                                                    stype='EEG', Ns=Ns,\n",
    "                                                    relative_start=-0.2)\n",
    "\n",
    "t_tr_data, t_tr_labels = tr_data_src.load_into_tensors()"
   ]
  },
  {
   "cell_type": "code",
   "execution_count": 7,
   "metadata": {},
   "outputs": [
    {
     "name": "stdout",
     "output_type": "stream",
     "text": [
      "No data specified. Sanity checks related to the length of the signal relative to the filter order will be skipped.\n",
      "Setting up band-pass filter from 1 - 25 Hz\n",
      "\n",
      "FIR filter parameters\n",
      "---------------------\n",
      "Designing a one-pass, non-linear phase, causal bandpass filter:\n",
      "- Windowed time-domain design (firwin) method\n",
      "- Hamming window with 0.0194 passband ripple and 53 dB stopband attenuation\n",
      "- Lower transition bandwidth: 1.00 Hz\n",
      "- Upper transition bandwidth: 6.25 Hz\n",
      "- Filter length: 825 samples (3.300 s)\n",
      "\n"
     ]
    }
   ],
   "source": [
    "# create a filter\n",
    "bandpass = (1, 25)  # in Hz\n",
    "f = mp.Filter.create_fir(\n",
    "    s, Fs, bandpass[0], bandpass[1], method=\"fir\", phase=\"minimum\"\n",
    ")\n",
    "\n",
    "# create the classifier\n",
    "classifier = mp.Classifier.create_logistic_regression(s)\n",
    "\n",
    "# create the graph\n",
    "g = mp.Graph.create(s)"
   ]
  },
  {
   "cell_type": "code",
   "execution_count": 8,
   "metadata": {},
   "outputs": [
    {
     "name": "stderr",
     "output_type": "stream",
     "text": [
      "c:\\Users\\ivanovn\\Documents\\MindPype\\mindpype\\source.py:585: RuntimeWarning: More than one stream found matching the predicate. Using the first stream found.\n",
      "  self.update_input_streams(pred, channels, marker_coupled, marker_fmt, marker_pred, stream_info, marker_stream_info, Ns)\n",
      "c:\\Users\\ivanovn\\Documents\\MindPype\\mindpype\\source.py:585: RuntimeWarning: More than one marker stream found matching the predicate. Using the first stream found.\n",
      "  self.update_input_streams(pred, channels, marker_coupled, marker_fmt, marker_pred, stream_info, marker_stream_info, Ns)\n"
     ]
    }
   ],
   "source": [
    "# test data\n",
    "te_data_src = mp.source.InputLSLStream.create_marker_coupled_data_stream(s, pred=\"type='EEG'\", channels=range(Nc),\n",
    "                                                                         relative_start=-0.2, Ns=Ns,\n",
    "                                                                         marker_fmt='.*flash',\n",
    "                                                                         marker_pred=\"type='Markers'\")\n",
    "\n",
    "t_input_data = mp.Tensor.create_from_handle(s, (Nc, Ns), te_data_src)"
   ]
  },
  {
   "cell_type": "code",
   "execution_count": 9,
   "metadata": {},
   "outputs": [],
   "source": [
    "\n",
    "t_pred_label = mp.Tensor.create(s, (1,))\n",
    "t_pred_probs = mp.Tensor.create(s, (1, 2))"
   ]
  },
  {
   "cell_type": "code",
   "execution_count": 10,
   "metadata": {},
   "outputs": [],
   "source": [
    "v_tensors = [\n",
    "                mp.Tensor.create_virtual(s),  # 0 - output of pad, input to filter\n",
    "                mp.Tensor.create_virtual(s),  # 1 - output of filter, input to extract\n",
    "                mp.Tensor.create_virtual(s),  # 2 - output of extract, input to baseline_correction\n",
    "                mp.Tensor.create_virtual(s),  # 3 - output of baseline correction, input to resample\n",
    "                mp.Tensor.create_virtual(s),  # 4 - output of xdawn, input to tangent space\n",
    "                mp.Tensor.create_virtual(s),  # 5 - output of tangent space, input to classifier\n",
    "            ]"
   ]
  },
  {
   "cell_type": "code",
   "execution_count": 11,
   "metadata": {},
   "outputs": [
    {
     "data": {
      "text/plain": [
       "<mindpype.graph.Node at 0x180d7c10970>"
      ]
     },
     "execution_count": 11,
     "metadata": {},
     "output_type": "execute_result"
    }
   ],
   "source": [
    "# Add nodes to the graph\n",
    "\n",
    "mp.kernels.PadKernel.add_to_graph(\n",
    "    g,\n",
    "    t_input_data,\n",
    "    v_tensors[0],\n",
    "    pad_width=((0, 0), (len(f.coeffs[\"fir\"]), len(f.coeffs[\"fir\"]))),\n",
    "    mode=\"edge\",\n",
    "    init_input=t_tr_data, init_labels=t_tr_labels\n",
    ")\n",
    "\n",
    "mp.kernels.FilterKernel.add_to_graph(\n",
    "    g, \n",
    "    v_tensors[0], \n",
    "    f, \n",
    "    v_tensors[1], \n",
    "    axis=1,\n",
    ")\n",
    "\n",
    "mp.kernels.ExtractKernel.add_to_graph(\n",
    "    g, \n",
    "    v_tensors[1], \n",
    "    extract_indices, \n",
    "    v_tensors[2]\n",
    ")\n",
    "\n",
    "mp.kernels.BaselineCorrectionKernel.add_to_graph(\n",
    "    g,\n",
    "    v_tensors[2],\n",
    "    v_tensors[3],\n",
    "    baseline_period=[0 * Fs, 0.2 * Fs],\n",
    ")\n",
    "\n",
    "mp.kernels.XDawnCovarianceKernel.add_to_graph(\n",
    "    g,\n",
    "    v_tensors[3],\n",
    "    v_tensors[4],\n",
    "    num_filters=4,\n",
    "    estimator=\"lwf\",\n",
    "    xdawn_estimator=\"lwf\",\n",
    ")\n",
    "mp.kernels.TangentSpaceKernel.add_to_graph(\n",
    "    g, \n",
    "    v_tensors[4], \n",
    "    v_tensors[5], \n",
    "    metric=\"riemann\"\n",
    ")\n",
    "\n",
    "mp.kernels.ClassifierKernel.add_to_graph(\n",
    "    g, v_tensors[5], \n",
    "    classifier, \n",
    "    t_pred_label, \n",
    "    t_pred_probs\n",
    ")"
   ]
  },
  {
   "cell_type": "code",
   "execution_count": 12,
   "metadata": {},
   "outputs": [
    {
     "name": "stdout",
     "output_type": "stream",
     "text": [
      "Verifying kernel Pad...\n",
      "Verifying kernel Filter...\n",
      "Verifying kernel Extract...\n",
      "Verifying kernel BaselineCorrection...\n",
      "Verifying kernel XDawnCovarianceKernel...\n",
      "Verifying kernel TangentSpaceKernel...\n",
      "Verifying kernel Classifier...\n",
      "Cross validation accuracy 0.950\n"
     ]
    }
   ],
   "source": [
    "# verify\n",
    "g.verify()\n",
    "\n",
    "# cross validate and init graph\n",
    "cv_acc = g.cross_validate(t_pred_label)\n",
    "print(f\"Cross validation accuracy {cv_acc:0.3f}\")\n",
    "\n",
    "g.initialize()"
   ]
  },
  {
   "cell_type": "code",
   "execution_count": 13,
   "metadata": {},
   "outputs": [
    {
     "name": "stdout",
     "output_type": "stream",
     "text": [
      "Executing trial with label: None\n",
      "Predicted label: 0, predicted probabilities: [0.73762444 0.26237556]\n",
      "Executing trial with label: None\n",
      "Predicted label: 0, predicted probabilities: [0.76522348 0.23477652]\n",
      "Executing trial with label: None\n",
      "Predicted label: 0, predicted probabilities: [0.82266118 0.17733882]\n",
      "Executing trial with label: None\n",
      "Predicted label: 0, predicted probabilities: [0.81660115 0.18339885]\n",
      "Executing trial with label: None\n",
      "Predicted label: 0, predicted probabilities: [0.75850197 0.24149803]\n",
      "Executing trial with label: None\n",
      "Predicted label: 0, predicted probabilities: [0.71669301 0.28330699]\n",
      "Executing trial with label: None\n",
      "Predicted label: 0, predicted probabilities: [0.88492984 0.11507016]\n",
      "Executing trial with label: None\n",
      "Predicted label: 0, predicted probabilities: [0.80309036 0.19690964]\n",
      "Executing trial with label: None\n",
      "Predicted label: 0, predicted probabilities: [0.72621807 0.27378193]\n"
     ]
    },
    {
     "name": "stderr",
     "output_type": "stream",
     "text": [
      "c:\\Users\\ivanovn\\Documents\\MindPype\\mindpype\\containers.py:752: RuntimeWarning: Buffer contains a backlog of data. Execution may be too slow for target polling rate.\n",
      "  data = self.ext_src.poll_data(label=label)\n",
      "c:\\Users\\ivanovn\\Documents\\MindPype\\mindpype\\containers.py:752: RuntimeWarning: Buffer contains a backlog of data. Execution may be too slow for target polling rate.\n",
      "  data = self.ext_src.poll_data(label=label)\n",
      "c:\\Users\\ivanovn\\Documents\\MindPype\\mindpype\\containers.py:752: RuntimeWarning: Buffer contains a backlog of data. Execution may be too slow for target polling rate.\n",
      "  data = self.ext_src.poll_data(label=label)\n",
      "c:\\Users\\ivanovn\\Documents\\MindPype\\mindpype\\containers.py:752: RuntimeWarning: Buffer contains a backlog of data. Execution may be too slow for target polling rate.\n",
      "  data = self.ext_src.poll_data(label=label)\n",
      "c:\\Users\\ivanovn\\Documents\\MindPype\\mindpype\\containers.py:752: RuntimeWarning: Buffer contains a backlog of data. Execution may be too slow for target polling rate.\n",
      "  data = self.ext_src.poll_data(label=label)\n",
      "c:\\Users\\ivanovn\\Documents\\MindPype\\mindpype\\containers.py:752: RuntimeWarning: Buffer contains a backlog of data. Execution may be too slow for target polling rate.\n",
      "  data = self.ext_src.poll_data(label=label)\n",
      "c:\\Users\\ivanovn\\Documents\\MindPype\\mindpype\\containers.py:752: RuntimeWarning: Buffer contains a backlog of data. Execution may be too slow for target polling rate.\n",
      "  data = self.ext_src.poll_data(label=label)\n"
     ]
    },
    {
     "name": "stdout",
     "output_type": "stream",
     "text": [
      "Executing trial with label: None\n",
      "Predicted label: 0, predicted probabilities: [0.74274166 0.25725834]\n",
      "Executing trial with label: None\n",
      "Predicted label: 0, predicted probabilities: [0.70791799 0.29208201]\n",
      "Executing trial with label: None\n",
      "Predicted label: 0, predicted probabilities: [0.77641541 0.22358459]\n",
      "Executing trial with label: None\n",
      "Predicted label: 0, predicted probabilities: [0.81380591 0.18619409]\n",
      "Executing trial with label: None\n",
      "Predicted label: 0, predicted probabilities: [0.80023476 0.19976524]\n",
      "Executing trial with label: None\n",
      "Predicted label: 0, predicted probabilities: [0.89503096 0.10496904]\n",
      "Executing trial with label: None\n",
      "Predicted label: 0, predicted probabilities: [0.86134075 0.13865925]\n",
      "Executing trial with label: None\n",
      "Predicted label: 0, predicted probabilities: [0.71829163 0.28170837]\n",
      "Executing trial with label: None\n",
      "Predicted label: 0, predicted probabilities: [0.68106543 0.31893457]\n",
      "Executing trial with label: None\n",
      "Predicted label: 0, predicted probabilities: [0.65557115 0.34442885]\n",
      "Executing trial with label: None\n",
      "Predicted label: 0, predicted probabilities: [0.83687162 0.16312838]\n",
      "Executing trial with label: None\n",
      "Predicted label: 0, predicted probabilities: [0.61415375 0.38584625]\n",
      "Executing trial with label: None\n",
      "Predicted label: 0, predicted probabilities: [0.76899427 0.23100573]\n",
      "Executing trial with label: None\n",
      "Predicted label: 0, predicted probabilities: [0.57188539 0.42811461]\n",
      "Executing trial with label: None\n",
      "Predicted label: 0, predicted probabilities: [0.73952057 0.26047943]\n",
      "Executing trial with label: None\n",
      "Predicted label: 0, predicted probabilities: [0.78001393 0.21998607]\n",
      "Executing trial with label: None\n",
      "Predicted label: 0, predicted probabilities: [0.72145446 0.27854554]\n",
      "Executing trial with label: None\n",
      "Predicted label: 0, predicted probabilities: [0.77527197 0.22472803]\n",
      "Executing trial with label: None\n",
      "Predicted label: 0, predicted probabilities: [0.7455623 0.2544377]\n",
      "Executing trial with label: None\n",
      "Predicted label: 0, predicted probabilities: [0.75546129 0.24453871]\n",
      "Executing trial with label: None\n",
      "Predicted label: 0, predicted probabilities: [0.77123596 0.22876404]\n",
      "Executing trial with label: None\n",
      "Predicted label: 0, predicted probabilities: [0.58039495 0.41960505]\n",
      "Executing trial with label: None\n",
      "Predicted label: 0, predicted probabilities: [0.66057809 0.33942191]\n",
      "Executing trial with label: None\n",
      "Predicted label: 0, predicted probabilities: [0.78865011 0.21134989]\n",
      "Executing trial with label: None\n",
      "Predicted label: 0, predicted probabilities: [0.66092928 0.33907072]\n",
      "Executing trial with label: None\n",
      "Predicted label: 0, predicted probabilities: [0.74453864 0.25546136]\n",
      "Executing trial with label: None\n",
      "Predicted label: 0, predicted probabilities: [0.72995431 0.27004569]\n",
      "Executing trial with label: None\n",
      "Predicted label: 0, predicted probabilities: [0.59728625 0.40271375]\n",
      "Executing trial with label: None\n",
      "Predicted label: 0, predicted probabilities: [0.6820958 0.3179042]\n",
      "Executing trial with label: None\n",
      "Predicted label: 0, predicted probabilities: [0.82330905 0.17669095]\n",
      "Executing trial with label: None\n",
      "Predicted label: 0, predicted probabilities: [0.87166877 0.12833123]\n",
      "Executing trial with label: None\n",
      "Predicted label: 0, predicted probabilities: [0.8375433 0.1624567]\n"
     ]
    },
    {
     "ename": "KeyboardInterrupt",
     "evalue": "",
     "output_type": "error",
     "traceback": [
      "\u001b[1;31m---------------------------------------------------------------------------\u001b[0m",
      "\u001b[1;31mKeyboardInterrupt\u001b[0m                         Traceback (most recent call last)",
      "Cell \u001b[1;32mIn[13], line 2\u001b[0m\n\u001b[0;32m      1\u001b[0m \u001b[38;5;28;01mwhile\u001b[39;00m \u001b[38;5;28;01mTrue\u001b[39;00m:\n\u001b[1;32m----> 2\u001b[0m     \u001b[43mg\u001b[49m\u001b[38;5;241;43m.\u001b[39;49m\u001b[43mexecute\u001b[49m\u001b[43m(\u001b[49m\u001b[43m)\u001b[49m\n\u001b[0;32m      3\u001b[0m     \u001b[38;5;28mprint\u001b[39m(\u001b[38;5;124mf\u001b[39m\u001b[38;5;124m\"\u001b[39m\u001b[38;5;124mPredicted label: \u001b[39m\u001b[38;5;132;01m{\u001b[39;00mpred_label\u001b[38;5;241m.\u001b[39mdata[\u001b[38;5;241m0\u001b[39m]\u001b[38;5;132;01m}\u001b[39;00m\u001b[38;5;124m, predicted probabilities: \u001b[39m\u001b[38;5;132;01m{\u001b[39;00mpred_probs\u001b[38;5;241m.\u001b[39mdata[\u001b[38;5;241m0\u001b[39m]\u001b[38;5;132;01m}\u001b[39;00m\u001b[38;5;124m\"\u001b[39m)\n",
      "File \u001b[1;32mc:\\Users\\ivanovn\\Documents\\MindPype\\mindpype\\graph.py:389\u001b[0m, in \u001b[0;36mGraph.execute\u001b[1;34m(self, label)\u001b[0m\n\u001b[0;32m    386\u001b[0m \u001b[38;5;66;03m# Check whether first node has volatile input\u001b[39;00m\n\u001b[0;32m    387\u001b[0m \u001b[38;5;66;03m# if so, poll the volatile data\u001b[39;00m\n\u001b[0;32m    388\u001b[0m \u001b[38;5;28;01mif\u001b[39;00m \u001b[38;5;28mlen\u001b[39m(\u001b[38;5;28mself\u001b[39m\u001b[38;5;241m.\u001b[39m_volatile_sources) \u001b[38;5;241m>\u001b[39m \u001b[38;5;241m0\u001b[39m:\n\u001b[1;32m--> 389\u001b[0m     \u001b[38;5;28;43mself\u001b[39;49m\u001b[38;5;241;43m.\u001b[39;49m\u001b[43mpoll_volatile_sources\u001b[49m\u001b[43m(\u001b[49m\u001b[43mlabel\u001b[49m\u001b[43m)\u001b[49m\n\u001b[0;32m    391\u001b[0m \u001b[38;5;28mprint\u001b[39m(\u001b[38;5;124m\"\u001b[39m\u001b[38;5;124mExecuting trial with label: \u001b[39m\u001b[38;5;132;01m{}\u001b[39;00m\u001b[38;5;124m\"\u001b[39m\u001b[38;5;241m.\u001b[39mformat(label))\n\u001b[0;32m    393\u001b[0m \u001b[38;5;66;03m# iterate over all the nodes and execute the kernel\u001b[39;00m\n",
      "File \u001b[1;32mc:\\Users\\ivanovn\\Documents\\MindPype\\mindpype\\graph.py:424\u001b[0m, in \u001b[0;36mGraph.poll_volatile_sources\u001b[1;34m(self, label)\u001b[0m\n\u001b[0;32m    406\u001b[0m \u001b[38;5;250m\u001b[39m\u001b[38;5;124;03m\"\"\"\u001b[39;00m\n\u001b[0;32m    407\u001b[0m \u001b[38;5;124;03mPoll data (update input data) from volatile sources within the graph.\u001b[39;00m\n\u001b[0;32m    408\u001b[0m \n\u001b[1;32m   (...)\u001b[0m\n\u001b[0;32m    421\u001b[0m \u001b[38;5;124;03m>>> example_graph.poll_volatile_data(0) # Polls next class 0 trial data\u001b[39;00m\n\u001b[0;32m    422\u001b[0m \u001b[38;5;124;03m\"\"\"\u001b[39;00m\n\u001b[0;32m    423\u001b[0m \u001b[38;5;28;01mfor\u001b[39;00m datum \u001b[38;5;129;01min\u001b[39;00m \u001b[38;5;28mself\u001b[39m\u001b[38;5;241m.\u001b[39m_volatile_sources:\n\u001b[1;32m--> 424\u001b[0m     \u001b[43mdatum\u001b[49m\u001b[38;5;241;43m.\u001b[39;49m\u001b[43mpoll_volatile_data\u001b[49m\u001b[43m(\u001b[49m\u001b[43mlabel\u001b[49m\u001b[43m)\u001b[49m\n",
      "File \u001b[1;32mc:\\Users\\ivanovn\\Documents\\MindPype\\mindpype\\containers.py:752\u001b[0m, in \u001b[0;36mTensor.poll_volatile_data\u001b[1;34m(self, label)\u001b[0m\n\u001b[0;32m    749\u001b[0m \u001b[38;5;28;01mif\u001b[39;00m \u001b[38;5;129;01mnot\u001b[39;00m \u001b[38;5;28mself\u001b[39m\u001b[38;5;241m.\u001b[39mvolatile:\n\u001b[0;32m    750\u001b[0m     \u001b[38;5;28;01mreturn\u001b[39;00m\n\u001b[1;32m--> 752\u001b[0m data \u001b[38;5;241m=\u001b[39m \u001b[38;5;28;43mself\u001b[39;49m\u001b[38;5;241;43m.\u001b[39;49m\u001b[43mext_src\u001b[49m\u001b[38;5;241;43m.\u001b[39;49m\u001b[43mpoll_data\u001b[49m\u001b[43m(\u001b[49m\u001b[43mlabel\u001b[49m\u001b[38;5;241;43m=\u001b[39;49m\u001b[43mlabel\u001b[49m\u001b[43m)\u001b[49m\n\u001b[0;32m    753\u001b[0m \u001b[38;5;66;03m# if we only pulled one trial, remove the first dimension\u001b[39;00m\n\u001b[0;32m    754\u001b[0m \u001b[38;5;28;01mif\u001b[39;00m \u001b[38;5;28mlen\u001b[39m(data\u001b[38;5;241m.\u001b[39mshape) \u001b[38;5;241m>\u001b[39m \u001b[38;5;241m2\u001b[39m:\n",
      "File \u001b[1;32mc:\\Users\\ivanovn\\Documents\\MindPype\\mindpype\\source.py:735\u001b[0m, in \u001b[0;36mInputLSLStream.poll_data\u001b[1;34m(self, label)\u001b[0m\n\u001b[0;32m    731\u001b[0m         \u001b[38;5;28;01mif\u001b[39;00m null_reads \u001b[38;5;241m>\u001b[39m \u001b[38;5;28mself\u001b[39m\u001b[38;5;241m.\u001b[39mMAX_NULL_READS:\n\u001b[0;32m    732\u001b[0m             \u001b[38;5;28;01mraise\u001b[39;00m \u001b[38;5;167;01mRuntimeError\u001b[39;00m(\n\u001b[0;32m    733\u001b[0m                 \u001b[38;5;124mf\u001b[39m\u001b[38;5;124m\"\u001b[39m\u001b[38;5;124mThe stream has not been updated in the last \u001b[39m\u001b[38;5;132;01m{\u001b[39;00m\u001b[38;5;28mself\u001b[39m\u001b[38;5;241m.\u001b[39mMAX_NULL_READS\u001b[38;5;132;01m}\u001b[39;00m\u001b[38;5;124m read attemps. Please check the stream.\u001b[39m\u001b[38;5;124m\"\u001b[39m\n\u001b[0;32m    734\u001b[0m             )\n\u001b[1;32m--> 735\u001b[0m         \u001b[43mtime\u001b[49m\u001b[38;5;241;43m.\u001b[39;49m\u001b[43msleep\u001b[49m\u001b[43m(\u001b[49m\u001b[38;5;241;43m0.001\u001b[39;49m\u001b[43m)\u001b[49m\n\u001b[0;32m    737\u001b[0m \u001b[38;5;28;01mif\u001b[39;00m \u001b[38;5;28mself\u001b[39m\u001b[38;5;241m.\u001b[39m_marker_coupled:\n\u001b[0;32m    738\u001b[0m     \u001b[38;5;66;03m# reset the maker peeked flag since we have polled new data\u001b[39;00m\n\u001b[0;32m    739\u001b[0m     \u001b[38;5;28mself\u001b[39m\u001b[38;5;241m.\u001b[39m_already_peeked \u001b[38;5;241m=\u001b[39m \u001b[38;5;28;01mFalse\u001b[39;00m\n",
      "\u001b[1;31mKeyboardInterrupt\u001b[0m: "
     ]
    }
   ],
   "source": [
    "# execute the graph\n",
    "while True:\n",
    "    g.execute()\n",
    "    print(f\"Predicted label: {t_pred_label.data[0]}, predicted probabilities: {t_pred_probs.data[0]}\")"
   ]
  }
 ],
 "metadata": {
  "kernelspec": {
   "display_name": "mindpype",
   "language": "python",
   "name": "python3"
  },
  "language_info": {
   "codemirror_mode": {
    "name": "ipython",
    "version": 3
   },
   "file_extension": ".py",
   "mimetype": "text/x-python",
   "name": "python",
   "nbconvert_exporter": "python",
   "pygments_lexer": "ipython3",
   "version": "3.9.19"
  }
 },
 "nbformat": 4,
 "nbformat_minor": 2
}
