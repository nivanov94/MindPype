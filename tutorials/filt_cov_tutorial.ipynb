{
 "cells": [
  {
   "cell_type": "code",
   "execution_count": 1,
   "metadata": {},
   "outputs": [],
   "source": [
    "# this is to setup the path so we can import the mindpype library\n",
    "import os; os.sys.path.append(os.path.dirname(os.path.abspath('.')))"
   ]
  },
  {
   "cell_type": "code",
   "execution_count": 2,
   "metadata": {},
   "outputs": [],
   "source": [
    "import mindpype as mp\n",
    "\n",
    "import numpy as np\n",
    "from scipy import signal"
   ]
  },
  {
   "cell_type": "code",
   "execution_count": 3,
   "metadata": {},
   "outputs": [],
   "source": [
    "# Create a manual computation function to compare the output of the graph with\n",
    "def manual_computation(input_data):\n",
    "\n",
    "    # first filter the data\n",
    "    sos = signal.butter(4,(8,35),btype='bandpass',output='sos',fs=250)\n",
    "    filtered_data = signal.sosfilt(sos,input_data,axis=1)\n",
    "    cov_mat = np.cov(filtered_data)\n",
    "\n",
    "    return cov_mat"
   ]
  },
  {
   "cell_type": "code",
   "execution_count": 4,
   "metadata": {},
   "outputs": [],
   "source": [
    "# create a session\n",
    "s = mp.Session.create()\n",
    "trial_graph = mp.Graph.create(s)"
   ]
  },
  {
   "cell_type": "code",
   "execution_count": 5,
   "metadata": {},
   "outputs": [],
   "source": [
    "# Create dummy input data and tensor\n",
    "input_data = np.random.randn(12,500)\n",
    "input_tensor = mp.Tensor.create_from_data(s,input_data)\n",
    "\n",
    "# Create output tensor\n",
    "output_tensor = mp.Tensor.create(s,(12,12))\n",
    "\n",
    "# Create virtual tensor for intermediate output\n",
    "intermediate_tensor = mp.Tensor.create_virtual(s)"
   ]
  },
  {
   "cell_type": "code",
   "execution_count": 6,
   "metadata": {},
   "outputs": [],
   "source": [
    "# create a filter\n",
    "order = 4\n",
    "bandpass = (8,35) # in Hz\n",
    "fs = 250\n",
    "filter_obj = mp.Filter.create_butter(s,order,bandpass,btype='bandpass',fs=fs,implementation='sos')"
   ]
  },
  {
   "cell_type": "code",
   "execution_count": 7,
   "metadata": {},
   "outputs": [
    {
     "data": {
      "text/plain": [
       "<mindpype.graph.Node at 0x1d36f4d68b0>"
      ]
     },
     "execution_count": 7,
     "metadata": {},
     "output_type": "execute_result"
    }
   ],
   "source": [
    "# add the nodes\n",
    "mp.kernels.FilterKernel.add_to_graph(trial_graph,input_tensor,filter_obj,intermediate_tensor)\n",
    "mp.kernels.CovarianceKernel.add_to_graph(trial_graph,intermediate_tensor,output_tensor)"
   ]
  },
  {
   "cell_type": "code",
   "execution_count": 8,
   "metadata": {},
   "outputs": [
    {
     "name": "stdout",
     "output_type": "stream",
     "text": [
      "Verifying kernel Filter...\n",
      "Verifying kernel Covariance...\n"
     ]
    }
   ],
   "source": [
    "# verify the session (i.e. schedule the nodes)\n",
    "trial_graph.verify()"
   ]
  },
  {
   "cell_type": "code",
   "execution_count": 9,
   "metadata": {},
   "outputs": [],
   "source": [
    "# initializing the graph - not required since there are no nodes that require initialization/training data\n",
    "trial_graph.initialize()"
   ]
  },
  {
   "cell_type": "code",
   "execution_count": 10,
   "metadata": {},
   "outputs": [
    {
     "name": "stdout",
     "output_type": "stream",
     "text": [
      "Executing trial with label: None\n"
     ]
    }
   ],
   "source": [
    "# RUN!\n",
    "trial_graph.execute()"
   ]
  },
  {
   "cell_type": "code",
   "execution_count": 11,
   "metadata": {},
   "outputs": [
    {
     "name": "stdout",
     "output_type": "stream",
     "text": [
      "0.0\n",
      "Test Passed =D\n"
     ]
    }
   ],
   "source": [
    "# compare the output with manual calculation\n",
    "ground_truth = manual_computation(input_data)\n",
    "\n",
    "max_diff = np.max(np.abs(output_tensor.data - ground_truth))\n",
    "print(max_diff)\n",
    "\n",
    "# Check if the difference is within the machine epsilon\n",
    "if max_diff <= np.finfo(np.float64).eps:\n",
    "    print(\"Test Passed =D\")\n",
    "else:\n",
    "    print(\"Test Failed D=\")\n"
   ]
  }
 ],
 "metadata": {
  "kernelspec": {
   "display_name": "mindpype",
   "language": "python",
   "name": "python3"
  },
  "language_info": {
   "codemirror_mode": {
    "name": "ipython",
    "version": 3
   },
   "file_extension": ".py",
   "mimetype": "text/x-python",
   "name": "python",
   "nbconvert_exporter": "python",
   "pygments_lexer": "ipython3",
   "version": "3.9.18"
  },
  "orig_nbformat": 4
 },
 "nbformat": 4,
 "nbformat_minor": 2
}
