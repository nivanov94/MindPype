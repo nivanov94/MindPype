{
 "cells": [
  {
   "cell_type": "code",
   "execution_count": null,
   "metadata": {},
   "outputs": [],
   "source": [
    "# Imports\n",
    "import sys, os\n",
    "sys.path.insert(0, os.getcwd())\n",
    "\n",
    "from bcipy import bcipy\n",
    "\n",
    "import numpy as np\n",
    "from scipy import signal"
   ]
  },
  {
   "cell_type": "code",
   "execution_count": null,
   "metadata": {},
   "outputs": [],
   "source": [
    "# Create a manual computation function to compare the output of the graph with\n",
    "def manual_computation(input_data):\n",
    "    \n",
    "    # first filter the data\n",
    "    sos = signal.butter(4,(8,35),btype='bandpass',output='sos',fs=250)\n",
    "    filtered_data = signal.sosfilt(sos,input_data,axis=0)\n",
    "    cov_mat = np.cov(filtered_data)\n",
    "    \n",
    "    return cov_mat"
   ]
  },
  {
   "cell_type": "code",
   "execution_count": null,
   "metadata": {},
   "outputs": [],
   "source": [
    "# create a session\n",
    "s = bcipy.Session.create()\n",
    "trial_graph = bcipy.Graph.create(s)"
   ]
  },
  {
   "cell_type": "code",
   "execution_count": null,
   "metadata": {},
   "outputs": [],
   "source": [
    "# Create dummy input data and tensor\n",
    "input_data = np.random.randn(12,500)\n",
    "input_tensor = bcipy.Tensor.create_from_data(s,(12,500),input_data)\n",
    "\n",
    "# Create output tensor\n",
    "output_tensors = bcipy.Tensor.create(s,(12,12))\n",
    "\n",
    "# Create virtual tensor for intermediate output\n",
    "intermediate_tensors = bcipy.Tensor.create_virtual(s)"
   ]
  },
  {
   "cell_type": "code",
   "execution_count": null,
   "metadata": {},
   "outputs": [],
   "source": [
    "# create a filter\n",
    "order = 4\n",
    "bandpass = (8,35) # in Hz\n",
    "fs = 250\n",
    "filter_obj = bcipy.Filter.create_butter(s,order,bandpass,btype='bandpass',fs=fs,implementation='sos')"
   ]
  },
  {
   "cell_type": "code",
   "execution_count": null,
   "metadata": {},
   "outputs": [],
   "source": [
    "# add the nodes\n",
    "bcipy.kernels.FilterKernel.add_filter_node(trial_graph,input_tensor,filter_obj,intermediate_tensors)\n",
    "bcipy.kernels.CovarianceKernel.add_covariance_node(trial_graph,intermediate_tensors,output_tensors)"
   ]
  },
  {
   "cell_type": "code",
   "execution_count": null,
   "metadata": {},
   "outputs": [],
   "source": [
    "# verify the session (i.e. schedule the nodes)\n",
    "sts = trial_graph.verify()\n",
    "\n",
    "if sts != bcipy.BcipEnums.SUCCESS:\n",
    "    print(sts)"
   ]
  },
  {
   "cell_type": "code",
   "execution_count": null,
   "metadata": {},
   "outputs": [],
   "source": [
    "# initializing the graph - not required since there are no nodes that require initialization/training data\n",
    "sts = trial_graph.initialize()"
   ]
  },
  {
   "cell_type": "code",
   "execution_count": null,
   "metadata": {},
   "outputs": [],
   "source": [
    "# RUN!\n",
    "sts = trial_graph.execute()"
   ]
  },
  {
   "cell_type": "code",
   "execution_count": null,
   "metadata": {},
   "outputs": [],
   "source": [
    "# compare the output with manual calculation\n",
    "ground_truth = manual_computation(input_data)\n",
    "\n",
    "max_diff = np.max(np.abs(output_tensors.data - ground_truth))\n",
    "print(max_diff)\n",
    "\n",
    "# Check if the difference is within the machine epsilon\n",
    "if max_diff <= np.finfo(np.float64).eps:\n",
    "    print(\"Test Passed =D\")\n",
    "else:\n",
    "    print(\"Test Failed D=\")\n"
   ]
  }
 ],
 "metadata": {
  "language_info": {
   "name": "python"
  },
  "orig_nbformat": 4
 },
 "nbformat": 4,
 "nbformat_minor": 2
}
