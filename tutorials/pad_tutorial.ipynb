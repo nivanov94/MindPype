{
 "cells": [
  {
   "cell_type": "markdown",
   "metadata": {},
   "source": [
    "This tutorial will demonstrate how to create a pipeline that performs padding on data using MindPype."
   ]
  },
  {
   "cell_type": "code",
   "execution_count": 1,
   "metadata": {},
   "outputs": [],
   "source": [
    "# this is to setup the path so we can import the mindpype library\n",
    "import os; os.sys.path.append(os.path.dirname(os.path.abspath('.')))"
   ]
  },
  {
   "cell_type": "code",
   "execution_count": 2,
   "metadata": {},
   "outputs": [],
   "source": [
    "# Importing the mindpype package\n",
    "import mindpype as mp\n",
    "import numpy as np"
   ]
  },
  {
   "cell_type": "markdown",
   "metadata": {},
   "source": [
    "The first step to creating a pipeline is to create a session, which serves as a sandbox for all components in the pipeline. After creating the session we will create a graph which represents the pipeline."
   ]
  },
  {
   "cell_type": "code",
   "execution_count": 3,
   "metadata": {},
   "outputs": [],
   "source": [
    "# Create a session and graph\n",
    "session = mp.Session.create()\n",
    "graph = mp.Graph.create(session)"
   ]
  },
  {
   "cell_type": "markdown",
   "metadata": {},
   "source": [
    "Next we will create our input and output data containers for the graph. We will use the ```create_from_data()``` factory method to create our input Tensor. For our output data, we will use the ```Tensor.create()``` factory method to create a Tensor of a specified shape."
   ]
  },
  {
   "cell_type": "code",
   "execution_count": 4,
   "metadata": {},
   "outputs": [],
   "source": [
    "# Create the input and output tensors\n",
    "input_tensor = mp.Tensor.create_from_data(session, data=np.ones(1))\n",
    "output_tensor = mp.Tensor.create(session, shape=(3,))"
   ]
  },
  {
   "cell_type": "markdown",
   "metadata": {},
   "source": [
    "Now we will add the pad kernel to our graph using the ```add_to_graph()``` method."
   ]
  },
  {
   "cell_type": "code",
   "execution_count": 5,
   "metadata": {},
   "outputs": [
    {
     "data": {
      "text/plain": [
       "<mindpype.graph.Node at 0x2f5198cc6d0>"
      ]
     },
     "execution_count": 5,
     "metadata": {},
     "output_type": "execute_result"
    }
   ],
   "source": [
    "# Add the pad kernel to the graph\n",
    "mp.kernels.PadKernel.add_to_graph(graph, input_tensor, output_tensor, pad_width = 1, mode = 'constant', constant_values = 0)"
   ]
  },
  {
   "cell_type": "markdown",
   "metadata": {},
   "source": [
    "At this point we have created the processing pipeline, and added all of the required components. We can now use a graph method to verify that the structure of the pipeline is valid.\n",
    "\n",
    "Following the verification of the pipeline, we should now initialize the graph. This step is required for pipelines that have methods that need to be trained or fit (ie. classifiers), but optional for other pipelines.\n",
    "\n",
    "Finally, we can run our pipeline by calling the ```execute()``` method on our graph."
   ]
  },
  {
   "cell_type": "code",
   "execution_count": 6,
   "metadata": {},
   "outputs": [
    {
     "name": "stdout",
     "output_type": "stream",
     "text": [
      "Verifying kernel Pad...\n",
      "Executing trial with label: None\n",
      "[0. 1. 0.]\n"
     ]
    }
   ],
   "source": [
    "# Verify the graph, initialize, and execute it\n",
    "graph.verify()\n",
    "graph.initialize()\n",
    "graph.execute()\n",
    "\n",
    "print(output_tensor.data)"
   ]
  },
  {
   "cell_type": "code",
   "execution_count": 7,
   "metadata": {},
   "outputs": [],
   "source": [
    "assert output_tensor.data.all() == np.array([0., 1., 0.]).all()"
   ]
  }
 ],
 "metadata": {
  "kernelspec": {
   "display_name": "bcipy_venv",
   "language": "python",
   "name": "python3"
  },
  "language_info": {
   "codemirror_mode": {
    "name": "ipython",
    "version": 3
   },
   "file_extension": ".py",
   "mimetype": "text/x-python",
   "name": "python",
   "nbconvert_exporter": "python",
   "pygments_lexer": "ipython3",
   "version": "3.9.18"
  },
  "orig_nbformat": 4
 },
 "nbformat": 4,
 "nbformat_minor": 2
}
