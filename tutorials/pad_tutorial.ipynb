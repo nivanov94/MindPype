{
 "cells": [
  {
   "cell_type": "code",
   "execution_count": null,
   "metadata": {},
   "outputs": [],
   "source": [
    "# Importing the bcipy package\n",
    "import mindpype as mp \n",
    "import numpy as np\n",
    "import pkgutil"
   ]
  },
  {
   "cell_type": "code",
   "execution_count": null,
   "metadata": {},
   "outputs": [],
   "source": [
    "# Create a session and graph\n",
    "session = mp.Session.create()\n",
    "graph = mp.Graph.create(session)"
   ]
  },
  {
   "cell_type": "code",
   "execution_count": null,
   "metadata": {},
   "outputs": [],
   "source": [
    "# Create the input and output tensors\n",
    "input_tensor = mp.Tensor.create_from_data(session, shape=(1,), data=np.ones(1))\n",
    "output_tensor = mp.Tensor.create(session, shape=(3,))"
   ]
  },
  {
   "cell_type": "code",
   "execution_count": null,
   "metadata": {},
   "outputs": [],
   "source": [
    "# Add the pad kernel to the graph\n",
    "mp.kernels.PadKernel.add_pad_node(graph, input_tensor, output_tensor, pad_width = 1, mode = 'constant', constant_values = 0)"
   ]
  },
  {
   "cell_type": "code",
   "execution_count": null,
   "metadata": {},
   "outputs": [],
   "source": [
    "# Verify the graph, initialize, and execute it\n",
    "graph.verify()\n",
    "graph.initialize()\n",
    "graph.execute()\n",
    "\n",
    "print(output_tensor.data)"
   ]
  },
  {
   "cell_type": "code",
   "execution_count": null,
   "metadata": {},
   "outputs": [],
   "source": [
    "assert output_tensor.data.all() == np.array([0., 1., 0.]).all()"
   ]
  }
 ],
 "metadata": {
  "kernelspec": {
   "display_name": "bcipy_venv",
   "language": "python",
   "name": "python3"
  },
  "language_info": {
   "codemirror_mode": {
    "name": "ipython",
    "version": 3
   },
   "file_extension": ".py",
   "mimetype": "text/x-python",
   "name": "python",
   "nbconvert_exporter": "python",
   "pygments_lexer": "ipython3",
   "version": "3.9.7"
  },
  "orig_nbformat": 4
 },
 "nbformat": 4,
 "nbformat_minor": 2
}
