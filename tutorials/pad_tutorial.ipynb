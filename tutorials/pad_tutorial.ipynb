{
 "cells": [
  {
   "cell_type": "code",
   "execution_count": 1,
   "metadata": {},
   "outputs": [],
   "source": [
    "# Importing the bcipy package\n",
    "import bcipy.bcipy as bcipy, numpy as np\n",
    "import pkgutil"
   ]
  },
  {
   "cell_type": "code",
   "execution_count": 3,
   "metadata": {},
   "outputs": [],
   "source": [
    "# Create a session and graph\n",
    "session = bcipy.Session.create()\n",
    "graph = bcipy.Graph.create(session)"
   ]
  },
  {
   "cell_type": "code",
   "execution_count": 4,
   "metadata": {},
   "outputs": [],
   "source": [
    "# Create the input and output tensors\n",
    "input_tensor = bcipy.Tensor.create_from_data(session, shape=(1,), data=np.ones(1))\n",
    "output_tensor = bcipy.Tensor.create_virtual(session, shape=())"
   ]
  },
  {
   "cell_type": "code",
   "execution_count": 5,
   "metadata": {},
   "outputs": [
    {
     "data": {
      "text/plain": [
       "<bcipy.bcipy.graph.Node at 0x1a83dbd08d0>"
      ]
     },
     "execution_count": 5,
     "metadata": {},
     "output_type": "execute_result"
    }
   ],
   "source": [
    "# Add the pad kernel to the graph\n",
    "bcipy.kernels.PadKernel.add_pad_node(graph, input_tensor, output_tensor, pad_width = 1, mode = 'constant', constant_values = 0)"
   ]
  },
  {
   "cell_type": "code",
   "execution_count": 6,
   "metadata": {},
   "outputs": [
    {
     "name": "stdout",
     "output_type": "stream",
     "text": [
      "\t\tBaselineCorrectionNode Scheduled\n",
      "Executing trial with label: None\n",
      "[0. 1. 0.]\n"
     ]
    }
   ],
   "source": [
    "# Verify the graph, initialize, and execute it\n",
    "graph.verify()\n",
    "graph.initialize()\n",
    "graph.execute()\n",
    "\n",
    "print(output_tensor.data)"
   ]
  },
  {
   "cell_type": "code",
   "execution_count": 15,
   "metadata": {},
   "outputs": [],
   "source": [
    "assert output_tensor.data.all() == np.array([0., 1., 0.]).all()"
   ]
  },
  {
   "cell_type": "code",
   "execution_count": null,
   "metadata": {},
   "outputs": [],
   "source": []
  }
 ],
 "metadata": {
  "kernelspec": {
   "display_name": "bcipy_venv",
   "language": "python",
   "name": "python3"
  },
  "language_info": {
   "codemirror_mode": {
    "name": "ipython",
    "version": 3
   },
   "file_extension": ".py",
   "mimetype": "text/x-python",
   "name": "python",
   "nbconvert_exporter": "python",
   "pygments_lexer": "ipython3",
   "version": "3.11.3"
  },
  "orig_nbformat": 4
 },
 "nbformat": 4,
 "nbformat_minor": 2
}
