{
 "cells": [
  {
   "cell_type": "code",
   "execution_count": 3,
   "metadata": {},
   "outputs": [],
   "source": [
    "# this is to setup the path so we can import the mindpype library\n",
    "import os; os.sys.path.append(os.path.dirname(os.path.abspath('.')))"
   ]
  },
  {
   "cell_type": "code",
   "execution_count": 6,
   "metadata": {},
   "outputs": [],
   "source": [
    "# import mindpype and numpy\n",
    "import mindpype as mp\n",
    "import numpy as np"
   ]
  },
  {
   "cell_type": "code",
   "execution_count": 7,
   "metadata": {},
   "outputs": [],
   "source": [
    "# create a MindPype session object\n",
    "# a session is a container for all the mindpype data and graphs\n",
    "s = mp.Session.create()"
   ]
  },
  {
   "cell_type": "code",
   "execution_count": 8,
   "metadata": {},
   "outputs": [],
   "source": [
    "# Now create the graph's edges\n",
    "# these are the objects that contain the data\n",
    "in1 = mp.Tensor.create_from_data(s, np.array([1, 2, 3, 4, 5]))\n",
    "in2 = mp.Tensor.create_from_data(s, np.array([5, 5, 5, 5, 5]))\n",
    "out = mp.Tensor.create(s, shape=(5,))"
   ]
  },
  {
   "cell_type": "code",
   "execution_count": 9,
   "metadata": {},
   "outputs": [],
   "source": [
    "# create the graph object and add the nodes to the graph\n",
    "g = mp.Graph.create(s)\n",
    "\n",
    "# create the nodes\n",
    "n1 = mp.kernels.AdditionKernel.add_addition_node(g, in1, in2, out)"
   ]
  },
  {
   "cell_type": "code",
   "execution_count": 10,
   "metadata": {},
   "outputs": [
    {
     "name": "stdout",
     "output_type": "stream",
     "text": [
      "Verifying kernel Addition...\n"
     ]
    }
   ],
   "source": [
    "# verify and initialize the graph\n",
    "g.verify()\n",
    "g.initialize() # there is nothing to initialize in this graph, so this will do nothing"
   ]
  },
  {
   "cell_type": "code",
   "execution_count": 12,
   "metadata": {},
   "outputs": [
    {
     "name": "stdout",
     "output_type": "stream",
     "text": [
      "Executing trial with label: None\n",
      "Output tensor data: [ 6  7  8  9 10]\n"
     ]
    }
   ],
   "source": [
    "# execute the graph\n",
    "g.execute()\n",
    "\n",
    "# print the values of the output tensor\n",
    "print(f\"Output tensor data: {out.data}\")"
   ]
  }
 ],
 "metadata": {
  "kernelspec": {
   "display_name": "mindpype",
   "language": "python",
   "name": "python3"
  },
  "language_info": {
   "codemirror_mode": {
    "name": "ipython",
    "version": 3
   },
   "file_extension": ".py",
   "mimetype": "text/x-python",
   "name": "python",
   "nbconvert_exporter": "python",
   "pygments_lexer": "ipython3",
   "version": "3.10.12"
  }
 },
 "nbformat": 4,
 "nbformat_minor": 2
}
