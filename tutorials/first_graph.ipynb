{
 "cells": [
  {
   "cell_type": "markdown",
   "metadata": {},
   "source": [
    "This tutorial will walk you through the process of creating a simple addition graph in MindPype."
   ]
  },
  {
   "cell_type": "code",
   "execution_count": 3,
   "metadata": {},
   "outputs": [],
   "source": [
    "# this is to setup the path so we can import the mindpype library\n",
    "import os; os.sys.path.append(os.path.dirname(os.path.abspath('.')))"
   ]
  },
  {
   "cell_type": "code",
   "execution_count": 6,
   "metadata": {},
   "outputs": [],
   "source": [
    "# import mindpype and numpy\n",
    "import mindpype as mp\n",
    "import numpy as np"
   ]
  },
  {
   "cell_type": "markdown",
   "metadata": {},
   "source": [
    "The first step to creating a pipeline is to create a session, which serves as a sandbox for all components in the pipeline."
   ]
  },
  {
   "cell_type": "code",
   "execution_count": 7,
   "metadata": {},
   "outputs": [],
   "source": [
    "# create a MindPype session object\n",
    "# a session is a container for all the mindpype data and graphs\n",
    "s = mp.Session.create()"
   ]
  },
  {
   "cell_type": "markdown",
   "metadata": {},
   "source": [
    "Next we will the graph's edges which will act as data containers for our data. \n",
    "\n",
    "For our addition pipeline we will require two inputs and one output. For our inputs, we can create a tensor from an array of values using the ```create_from_data()``` factory method. For our output we can create a tensor of a specified shape using the ```Tensor.create()``` method."
   ]
  },
  {
   "cell_type": "code",
   "execution_count": 8,
   "metadata": {},
   "outputs": [],
   "source": [
    "# Now create the graph's edges\n",
    "# these are the objects that contain the data\n",
    "in1 = mp.Tensor.create_from_data(s, np.array([1, 2, 3, 4, 5]))\n",
    "in2 = mp.Tensor.create_from_data(s, np.array([5, 5, 5, 5, 5]))\n",
    "out = mp.Tensor.create(s, shape=(5,))"
   ]
  },
  {
   "cell_type": "markdown",
   "metadata": {},
   "source": [
    "The next step is to create the graph object. This is done by using the ```Graph.create()``` factory method. The graph object represents our pipeline.\n",
    "\n",
    "Once we have created our graph, we can add our node(s) to the graph using the ```add_to_graph()``` factory method. Each node in the graph represent a process that the pipeline executes. A node will consume input(s) (edges) and produce output(s) (other edges)."
   ]
  },
  {
   "cell_type": "code",
   "execution_count": 9,
   "metadata": {},
   "outputs": [],
   "source": [
    "# create the graph object and add the nodes to the graph\n",
    "g = mp.Graph.create(s)\n",
    "\n",
    "# create the nodes\n",
    "n1 = mp.kernels.AdditionKernel.add_to_graph(g, in1, in2, out)"
   ]
  },
  {
   "cell_type": "markdown",
   "metadata": {},
   "source": [
    "After creating the graph and adding our nodes, we then need to verify our graph using the ```verify()``` method. Verifying the graph orders the nodes for execution and ensure that the inputs and outputs of each processing node are appropriately typed and sized.\n",
    "\n",
    "If we have nodes that require training or an initial internal state (such a classifier or CSP node) then we will need to initialize the graph after verifying it. This is done using the ```initialize()``` method. For our addition pipeline this step is not required."
   ]
  },
  {
   "cell_type": "code",
   "execution_count": 10,
   "metadata": {},
   "outputs": [
    {
     "name": "stdout",
     "output_type": "stream",
     "text": [
      "Verifying kernel Addition...\n"
     ]
    }
   ],
   "source": [
    "# verify and initialize the graph\n",
    "g.verify()\n",
    "g.initialize() # there is nothing to initialize in this graph, so this will do nothing"
   ]
  },
  {
   "cell_type": "markdown",
   "metadata": {},
   "source": [
    "We are now ready to run our pipeline. To run the graph for the provided input data, we use the ```execute()``` method."
   ]
  },
  {
   "cell_type": "code",
   "execution_count": 12,
   "metadata": {},
   "outputs": [
    {
     "name": "stdout",
     "output_type": "stream",
     "text": [
      "Executing trial with label: None\n",
      "Output tensor data: [ 6  7  8  9 10]\n"
     ]
    }
   ],
   "source": [
    "# execute the graph\n",
    "g.execute()\n",
    "\n",
    "# print the values of the output tensor\n",
    "print(f\"Output tensor data: {out.data}\")"
   ]
  }
 ],
 "metadata": {
  "kernelspec": {
   "display_name": "mindpype",
   "language": "python",
   "name": "python3"
  },
  "language_info": {
   "codemirror_mode": {
    "name": "ipython",
    "version": 3
   },
   "file_extension": ".py",
   "mimetype": "text/x-python",
   "name": "python",
   "nbconvert_exporter": "python",
   "pygments_lexer": "ipython3",
   "version": "3.10.12"
  }
 },
 "nbformat": 4,
 "nbformat_minor": 2
}
